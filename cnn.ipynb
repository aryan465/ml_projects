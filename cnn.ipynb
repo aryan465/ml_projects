{
  "nbformat": 4,
  "nbformat_minor": 0,
  "metadata": {
    "colab": {
      "provenance": [],
      "collapsed_sections": [],
      "include_colab_link": true
    },
    "kernelspec": {
      "display_name": "Python 3",
      "language": "python",
      "name": "python3"
    },
    "language_info": {
      "codemirror_mode": {
        "name": "ipython",
        "version": 3
      },
      "file_extension": ".py",
      "mimetype": "text/x-python",
      "name": "python",
      "nbconvert_exporter": "python",
      "pygments_lexer": "ipython3",
      "version": "3.7.10"
    },
    "accelerator": "GPU"
  },
  "cells": [
    {
      "cell_type": "markdown",
      "metadata": {
        "id": "view-in-github",
        "colab_type": "text"
      },
      "source": [
        "<a href=\"https://colab.research.google.com/github/aryan465/ml_projects/blob/main/cnn.ipynb\" target=\"_parent\"><img src=\"https://colab.research.google.com/assets/colab-badge.svg\" alt=\"Open In Colab\"/></a>"
      ]
    },
    {
      "cell_type": "markdown",
      "metadata": {
        "id": "uJT4Bt4-12rC"
      },
      "source": [
        "# Convolution Neural Networks\n",
        "\n",
        "\n",
        "---\n",
        "\n",
        "\n",
        "Link to the dataset : https://drive.google.com/file/d/14HjM98X9T2LIw7L5Io6kq0uRc9GFN93z/view?usp=sharing\n",
        "\n",
        "---\n",
        "\n",
        "\n",
        "\n",
        "General Instructions:\n",
        "\n",
        "---\n",
        "\n",
        "\n",
        "\n",
        "1. You have to do this lab individually\n",
        "2. You may use **sklearn, seaborn, matplotlib, pandas, Tensorflow 2.x**\n",
        "3. All the code should be submitted in the form of a single Jupyter notebook itself.\n"
      ]
    },
    {
      "cell_type": "markdown",
      "metadata": {
        "id": "IVlFdnMK12rJ"
      },
      "source": [
        "---\n",
        "\n",
        "### A long time ago, in a galaxy far far away....\n",
        "\n",
        "Rey is a warrior who wants to reach her mentor, Luke Skywalker, to complete her training. No one has seen or communicated Skywalker, who has moved to someplace in outer planetary systems for ages. But Rey is fortunate enough to find a document that can help her to reach the destination. However, she is not familiar with the document's script (which happens to be Latin). Also, it is challenging to segment characters in a handwritten script. She can use her droid BB-8 for recognising words. There are two known representations for such words known to BB-8: **Alpha representation**( using alphabets) and **Omega representation**(using shapes). Since BB-8 is an astromech droid, he can use only one of them due to memory constraints.  Rey reaches out to you for help, and you (being an expert in script recognition and convolution neural networks) agree to help her. You are supposed to carry out experiments in the following section to determine which representation could help her.\n",
        "\n",
        "*May the force be with you!!*\n",
        "\n",
        "---\n",
        "\n",
        "# Task: Word Recognition\n",
        "\n",
        "You have to train a deep CNN model that can help in recognising a word, i.e. given a word-image(image with a word present in it) as input, the model yields a representation that can help in recognising the word from a set of possible words (termed as  'lexicon' of words). \n",
        "\n",
        "---\n",
        "\n",
        "## Representations of the word\n",
        "\n",
        "There are two representations for a word:\n",
        "\n",
        "1. **Alpha representation**: This is based on the claim that a word can be represented in terms of occurences of characters in various segments of image.\n",
        "\n",
        "The word is split into equal parts at various levels.\n",
        "\n",
        "At level *i*:  \n",
        "* A word is split into *i* (nearly) equal segments.  \n",
        "* For every segment, we compute a binary vector in which each segment correspond to alphabets/characters (Shown in fig.).\n",
        "\n",
        "![Alpha Vector](https://drive.google.com/uc?export=view&id=17rUvYXvWUc2IP8aD-O3kualSjr2dcn2b)\n",
        "\n",
        "*  Individual vectors of each segment are concatenated after one another, i.e. the level vector is obtained by concatenating individual vectors of first segment followed by second, third and so on.\n",
        "\n",
        "The final vector is obtained by concatenating vectors of all levels $\\{L_i.L_{i+1}.L_{i+2}\\cdots\\}$.\n",
        "\n",
        "\n",
        "*For this assignment, you are supposed to use levels 2-5. \n",
        "This makes the length of final Alpha vector to be (2+3+4+5) * 26 = 364*\n",
        "\n",
        "\n",
        "\n",
        "2. **Omega representation**: This is based on the claim that a word can be represented in terms of count of 11 primitve shapes present in various segments of image. The 11 shapes are: *ascender, descender, left small semi-circle, right small semi-circle, left large semi-circle, right large semi-circle, circle, vertical line, diagonal line, diagonal line at a slope of 135 degrees, and horizontal line*. These have been shown in figure.\n",
        "\n",
        "![Primary Shapes](https://drive.google.com/uc?export=view&id=1573VBQwD03ae_UBjDaYk4fq84bGmDzr2)\n",
        "\n",
        "The word is split into equal parts at various levels.\n",
        "\n",
        "At level *i*:  \n",
        "* A word is split into *i* (nearly) equal segments.  \n",
        "* For every segment, we compute a vector in which each segment correspond to count of a shape.\n",
        "\n",
        "![Omega for anagram](https://drive.google.com/uc?export=view&id=1nk1pj0yp5wunCxYeUp5ppH8hdsHF41rv)\n",
        "\n",
        "\n",
        "*  Individual vectors of each segment are concatenated after one another, i.e. the level vector is obtained by concatenating individual vectors of first segment followed by second, third and so on.\n",
        "\n",
        "The final vector is obtained by concatenating vectors of all levels $\\{L_i.L_{i+1}.L_{i+2}\\cdots\\}$.\n",
        "\n",
        "*For this assignment, you are supposed to use levels 1-5. \n",
        "This makes the length of final Omega vector to be (1+2+3+4+5) * 11 = 165*\n",
        "\n",
        "---\n",
        "\n",
        "**Note**: For both representations, while splitting, in case of unequal lengths of segments, segments at the end should be of more length e.g. Level 3 split of \"omega\" = {o,me,ga} and \"play\" = {p,l,ay}. Also, for a smaller words like \"ok\" level 3 split = {$\\epsilon$,o,k} where $\\epsilon$ = empty string. \n",
        "\n",
        "---\n",
        "\n",
        "Your final goal of this assignment is to detemine which representation will be more helpful for word recognition. \n",
        "\n"
      ]
    },
    {
      "cell_type": "code",
      "metadata": {
        "id": "h74MHOsV12rK"
      },
      "source": [
        "# Import the necessary libraries\n",
        "\n",
        "import tensorflow as tf\n",
        "import numpy as np\n",
        "import pandas as pd\n",
        "import seaborn as sns\n",
        "import cv2\n",
        "import matplotlib.pyplot as plt\n",
        "import os\n",
        "import shutil\n",
        "import random\n",
        "\n",
        "# If using Google Colab, use the following package to display the image\n",
        "# If running on your local system, cv2.imshow shall work fine\n",
        "# If running on your local system please comment the line below\n",
        "from google.colab.patches import cv2_imshow"
      ],
      "execution_count": null,
      "outputs": []
    },
    {
      "cell_type": "code",
      "metadata": {
        "id": "VzdPAxac12rM"
      },
      "source": [
        "IMG_HEIGHT = 50\n",
        "IMG_WIDTH = 250"
      ],
      "execution_count": null,
      "outputs": []
    },
    {
      "cell_type": "markdown",
      "metadata": {
        "id": "Wd0u6NE_12rN"
      },
      "source": [
        "# Dataset\n",
        "\n",
        "The dataset used here is a synthetic word recognition dataset. It consists of images of lowercase English words, generated with handwritten-fonts. All images are single channel (grayscale) and have size 250 * 50. <br>\n",
        "\n",
        "The dataset has the following directory structure:\n",
        "\n",
        "<pre>\n",
        "<b>WR-Dataset</b>\n",
        "|__ <b>train</b>: [foo_1.png, bar_2.png, sample_3.png ....]\n",
        "|__ <b>validation</b>: [foo_221.png, bar_322.png, sample_353.png ....]\n",
        "|__ <b>test</b>: [bar_521.png, foo_272.png, example_433.png ....]\n",
        "|__ <b>Alphabet.csv</b>\n",
        "    \n",
        "</pre>\n",
        "\n",
        "Extract the paths of these directories onto different variables to facilitate accessing the dataset and thereby training the model."
      ]
    },
    {
      "cell_type": "code",
      "metadata": {
        "colab": {
          "base_uri": "https://localhost:8080/"
        },
        "id": "ARWK3QMxKv4u",
        "outputId": "2d59b5ac-bcaf-4477-fc40-ab6ed78bc0c0"
      },
      "source": [
        "from google.colab import drive\n",
        "drive.mount('/content/drive')"
      ],
      "execution_count": null,
      "outputs": [
        {
          "output_type": "stream",
          "text": [
            "Drive already mounted at /content/drive; to attempt to forcibly remount, call drive.mount(\"/content/drive\", force_remount=True).\n"
          ],
          "name": "stdout"
        }
      ]
    },
    {
      "cell_type": "code",
      "metadata": {
        "id": "D2iBGOF42N_k"
      },
      "source": [
        "#Add the paths for train, validation and test directories\n",
        "import zipfile\n",
        "\n",
        "zip_file_link = zipfile.ZipFile(\"/content/drive/MyDrive/WR-Dataset.zip\",\"r\")\n",
        "zip_file_link.extractall(\"/tmpB\")\n",
        "\n",
        "train_dir_path=\"/tmpB/WR-Dataset/Train\"\n",
        "validation_dir_path=\"/tmpB/WR-Dataset/Validation\"\n",
        "test_dir_path=\"/tmpB/WR-Dataset/Test\"\n",
        "alphabet_csv_path = \"/tmpB/WR-Dataset/Alphabet.csv\""
      ],
      "execution_count": null,
      "outputs": []
    },
    {
      "cell_type": "markdown",
      "metadata": {
        "id": "uy9vx_PZ12rU"
      },
      "source": [
        "# Visualizing sample images\n",
        "\n",
        "Prepare an image to label map and visualize 5 randomly chosen images from training, validation and test sets (along with their labels). Also, Mention the number of word classes present in each of the three sets.\n",
        "\n",
        "----\n",
        "\n",
        "**(1+1+1) points**\n",
        "\n",
        "---"
      ]
    },
    {
      "cell_type": "code",
      "metadata": {
        "id": "HlouZ0lY12rU",
        "colab": {
          "base_uri": "https://localhost:8080/",
          "height": 1000
        },
        "outputId": "dc03e1f9-4c0e-433b-8e08-7a3c3ef92614"
      },
      "source": [
        "# Insert code to build a dataframe with Images and their corresponding labels for 3 folders (similar to Lab 3(a))\n",
        "\n",
        "# Function to generate dataframe\n",
        "def get_dataframe(folder_name):\n",
        "\n",
        "    for root, dirs, files in os.walk(folder_name):\n",
        "\n",
        "        labesls = [file.split('_')[0] for file in files]\n",
        "            \n",
        "    df = pd.DataFrame({\n",
        "        'Images': files,\n",
        "        'Label': labesls\n",
        "    })\n",
        "   \n",
        "    return df\n",
        "\n",
        "# display the dataframes\n",
        "\n",
        "train_df = get_dataframe(train_dir_path)\n",
        "print(train_df)\n",
        "\n",
        "validation_df = get_dataframe(validation_dir_path)\n",
        "print(validation_df)\n",
        "\n",
        "test_df = get_dataframe(test_dir_path)\n",
        "print(test_df)\n",
        "\n",
        "\n",
        "# Function to show images\n",
        "def show_images(folder_name):\n",
        "\n",
        "    if folder_name == train_dir_path:\n",
        "        df = train_df\n",
        "    elif folder_name == validation_dir_path:\n",
        "        df = validation_df\n",
        "    else:\n",
        "        df = test_df\n",
        "      \n",
        "    rand_img_arr = random.choices(df['Images'], k=5)\n",
        "\n",
        "    for img in rand_img_arr:\n",
        "        var = cv2.imread(folder_name +'/'+ img)\n",
        "        \n",
        "        cv2_imshow(var)\n",
        "        cv2.waitKey(0)\n",
        "        cv2.destroyAllWindows()\n",
        "\n",
        "\n",
        "# Visualise images from the train set\n",
        "show_images(train_dir_path)\n",
        "\n",
        "# Visualise images from the validation set\n",
        "show_images(validation_dir_path)\n",
        "\n",
        "# Visualise images from the test set\n",
        "show_images(test_dir_path)\n"
      ],
      "execution_count": null,
      "outputs": [
        {
          "output_type": "stream",
          "text": [
            "             Images    Label\n",
            "0      search_1.png   search\n",
            "1       pages_2.png    pages\n",
            "2        like_2.png     like\n",
            "3         had_7.png      had\n",
            "4         who_5.png      who\n",
            "...             ...      ...\n",
            "2047     such_5.png     such\n",
            "2048  company_0.png  company\n",
            "2049     that_5.png     that\n",
            "2050   online_1.png   online\n",
            "2051     only_1.png     only\n",
            "\n",
            "[2052 rows x 2 columns]\n",
            "             Images     Label\n",
            "0        read_0.png      read\n",
            "1         and_0.png       and\n",
            "2     special_4.png   special\n",
            "3       years_4.png     years\n",
            "4           n_1.png         n\n",
            "..              ...       ...\n",
            "103      that_0.png      that\n",
            "104      next_7.png      next\n",
            "105  products_3.png  products\n",
            "106     check_1.png     check\n",
            "107         e_3.png         e\n",
            "\n",
            "[108 rows x 2 columns]\n",
            "              Images      Label\n",
            "0         game_4.png       game\n",
            "1        first_6.png      first\n",
            "2         when_7.png       when\n",
            "3         high_6.png       high\n",
            "4         days_7.png       days\n",
            "..               ...        ...\n",
            "395        end_6.png        end\n",
            "396  following_6.png  following\n",
            "397       news_5.png       news\n",
            "398     county_1.png     county\n",
            "399       real_5.png       real\n",
            "\n",
            "[400 rows x 2 columns]\n"
          ],
          "name": "stdout"
        },
        {
          "output_type": "display_data",
          "data": {
            "image/png": "[encoded data removed]",
            "text/plain": [
              "<PIL.Image.Image image mode=RGB size=250x50 at 0x7FB03BE6F290>"
            ]
          },
          "metadata": {
            "tags": []
          }
        },
        {
          "output_type": "display_data",
          "data": {
            "image/png": "[encoded data removed]",
            "text/plain": [
              "<PIL.Image.Image image mode=RGB size=250x50 at 0x7FB03BE6FDD0>"
            ]
          },
          "metadata": {
            "tags": []
          }
        },
        {
          "output_type": "display_data",
          "data": {
            "image/png": "[encoded data removed]",
            "text/plain": [
              "<PIL.Image.Image image mode=RGB size=250x50 at 0x7FB03BE6FD90>"
            ]
          },
          "metadata": {
            "tags": []
          }
        },
        {
          "output_type": "display_data",
          "data": {
            "image/png": "[encoded data removed]",
            "text/plain": [
              "<PIL.Image.Image image mode=RGB size=250x50 at 0x7FB03BE6F610>"
            ]
          },
          "metadata": {
            "tags": []
          }
        },
        {
          "output_type": "display_data",
          "data": {
            "image/png": "[encoded data removed]",
            "text/plain": [
              "<PIL.Image.Image image mode=RGB size=250x50 at 0x7FB03BE6FD50>"
            ]
          },
          "metadata": {
            "tags": []
          }
        },
        {
          "output_type": "display_data",
          "data": {
            "image/png": "[encoded data removed]",
            "text/plain": [
              "<PIL.Image.Image image mode=RGB size=250x50 at 0x7FB03BE6F290>"
            ]
          },
          "metadata": {
            "tags": []
          }
        },
        {
          "output_type": "display_data",
          "data": {
            "image/png": "[encoded data removed]",
            "text/plain": [
              "<PIL.Image.Image image mode=RGB size=250x50 at 0x7FB03BE6F1D0>"
            ]
          },
          "metadata": {
            "tags": []
          }
        },
        {
          "output_type": "display_data",
          "data": {
            "image/png": "[encoded data removed]",
            "text/plain": [
              "<PIL.Image.Image image mode=RGB size=250x50 at 0x7FB03BE6F490>"
            ]
          },
          "metadata": {
            "tags": []
          }
        },
        {
          "output_type": "display_data",
          "data": {
            "image/png": "[encoded data removed]",
            "text/plain": [
              "<PIL.Image.Image image mode=RGB size=250x50 at 0x7FB03BE6F290>"
            ]
          },
          "metadata": {
            "tags": []
          }
        },
        {
          "output_type": "display_data",
          "data": {
            "image/png": "[encoded data removed]",
            "text/plain": [
              "<PIL.Image.Image image mode=RGB size=250x50 at 0x7FB03BE6FD50>"
            ]
          },
          "metadata": {
            "tags": []
          }
        },
        {
          "output_type": "display_data",
          "data": {
            "image/png": "[encoded data removed]",
            "text/plain": [
              "<PIL.Image.Image image mode=RGB size=250x50 at 0x7FAF825A4FD0>"
            ]
          },
          "metadata": {
            "tags": []
          }
        },
        {
          "output_type": "display_data",
          "data": {
            "image/png": "[encoded data removed]",
            "text/plain": [
              "<PIL.Image.Image image mode=RGB size=250x50 at 0x7FB03BE6FE10>"
            ]
          },
          "metadata": {
            "tags": []
          }
        },
        {
          "output_type": "display_data",
          "data": {
            "image/png": "[encoded data removed]",
            "text/plain": [
              "<PIL.Image.Image image mode=RGB size=250x50 at 0x7FB03BE6F0D0>"
            ]
          },
          "metadata": {
            "tags": []
          }
        },
        {
          "output_type": "display_data",
          "data": {
            "image/png": "[encoded data removed]",
            "text/plain": [
              "<PIL.Image.Image image mode=RGB size=250x50 at 0x7FB03BE6FC10>"
            ]
          },
          "metadata": {
            "tags": []
          }
        },
        {
          "output_type": "display_data",
          "data": {
            "image/png": "[encoded data removed]",
            "text/plain": [
              "<PIL.Image.Image image mode=RGB size=250x50 at 0x7FB03BE6F490>"
            ]
          },
          "metadata": {
            "tags": []
          }
        }
      ]
    },
    {
      "cell_type": "markdown",
      "metadata": {
        "id": "uwU9b8hOwPFe"
      },
      "source": [
        "Now, you will have to write modules that can give you vector representations for the input words.\n",
        "\n",
        "---\n",
        "\n",
        "**(3 + 3 points)**\n",
        "\n",
        "---"
      ]
    },
    {
      "cell_type": "code",
      "metadata": {
        "id": "Wot9v85C12rP"
      },
      "source": [
        "def get_Omega_vector(word):\n",
        "  #Insert the code for a function that returns Omega representation of the input word\n",
        "  alphabet_df = pd.read_csv(alphabet_csv_path,header=None)\n",
        "  alphabet_df.columns = ['alphabet','t1','t2','t3','t4','t5','t6','t7','t8','t9','t10','t11']\n",
        "  o_vector = list()\n",
        "  segments = list()\n",
        "\n",
        "  def get_vector(segment):\n",
        "    temp_arr = [0 for _ in range(11)]\n",
        "    alphabets = [i for i in word.lower()]\n",
        "\n",
        "    for char in alphabets:\n",
        "      new_df = alphabet_df[alphabet_df['alphabet'] == char]\n",
        "      np_df = new_df.to_numpy()\n",
        "      temp_arr = np.add(temp_arr, np_df[0][1:])\n",
        "    return temp_arr\n",
        "\n",
        "  for j in range(1,6):\n",
        "     parts = list()\n",
        "     l = len(word)\n",
        "     n=0\n",
        "     for k in reversed(range(1,j+1)):\n",
        "       alph = l//k\n",
        "       parts.append(word[n:n+alph])\n",
        "       n += alph\n",
        "       l = l-alph\n",
        "     segments+=parts\n",
        "\n",
        "  for segment in segments:\n",
        "    temp_vector = get_vector(segment)\n",
        "\n",
        "    for t in temp_vector:\n",
        "      o_vector.append(t)\n",
        "\n",
        "  return o_vector\n",
        "  #Hint: For computing count of segments, you can add count of shapes for individual characters (already provided in Alphabet.csv file)\n"
      ],
      "execution_count": null,
      "outputs": []
    },
    {
      "cell_type": "code",
      "metadata": {
        "id": "wYkEjcoJ12rP"
      },
      "source": [
        "def get_Alpha_vector(word):\n",
        "  #Insert the code for a function that returns Alpha representation of the input word \n",
        "  alphabets = ['a','b','c','d','e','f','g','h','i','j','k','l','m','n','o','p','q','r','s','t','u','v','w','x','y','z']\n",
        "  a_vector = list()\n",
        "  segments = list()\n",
        "\n",
        "  def get_vector(segment):\n",
        "    temp_arr = [0 for _ in range(26)]\n",
        "    chars = [i for i in word.lower()]\n",
        "    \n",
        "    for char in chars: \n",
        "      ind = alphabets.index(char)\n",
        "      temp_arr[ind] += 1\n",
        "    return(temp_arr)\n",
        "\n",
        "  for j in range(2,6):\n",
        "     parts = list()\n",
        "     l = len(word)\n",
        "     n=0\n",
        "     for k in reversed(range(1,j+1)):\n",
        "       alph = l//k\n",
        "       parts.append(word[n:n+alph])\n",
        "       n += alph\n",
        "       l = l-alph\n",
        "     segments+=parts\n",
        "  for segment in segments:\n",
        "    temp_vector = get_vector(segment)\n",
        "\n",
        "    for t in temp_vector:\n",
        "      a_vector.append(t)\n",
        "\n",
        "  return a_vector\n"
      ],
      "execution_count": null,
      "outputs": []
    },
    {
      "cell_type": "markdown",
      "metadata": {
        "id": "ze5H4o_Q12rQ"
      },
      "source": [
        "To test the above modules, try printing Omega and Alpha vectors for your first name."
      ]
    },
    {
      "cell_type": "code",
      "metadata": {
        "id": "cvwaWcfC12rR",
        "colab": {
          "base_uri": "https://localhost:8080/"
        },
        "outputId": "b53bd97a-7b6f-490c-ac40-eb092891df6f"
      },
      "source": [
        "name =\"Aryan\"\n",
        "\n",
        "print(\"Omega vector:\",(get_Omega_vector(name)))\n",
        "\n",
        "print(\"Alphavector:\",(get_Alpha_vector(name)))"
      ],
      "execution_count": null,
      "outputs": [
        {
          "output_type": "stream",
          "text": [
            "Omega vector: [0, 1, 2, 0, 0, 0, 2, 5, 1, 1, 0, 0, 1, 2, 0, 0, 0, 2, 5, 1, 1, 0, 0, 1, 2, 0, 0, 0, 2, 5, 1, 1, 0, 0, 1, 2, 0, 0, 0, 2, 5, 1, 1, 0, 0, 1, 2, 0, 0, 0, 2, 5, 1, 1, 0, 0, 1, 2, 0, 0, 0, 2, 5, 1, 1, 0, 0, 1, 2, 0, 0, 0, 2, 5, 1, 1, 0, 0, 1, 2, 0, 0, 0, 2, 5, 1, 1, 0, 0, 1, 2, 0, 0, 0, 2, 5, 1, 1, 0, 0, 1, 2, 0, 0, 0, 2, 5, 1, 1, 0, 0, 1, 2, 0, 0, 0, 2, 5, 1, 1, 0, 0, 1, 2, 0, 0, 0, 2, 5, 1, 1, 0, 0, 1, 2, 0, 0, 0, 2, 5, 1, 1, 0, 0, 1, 2, 0, 0, 0, 2, 5, 1, 1, 0, 0, 1, 2, 0, 0, 0, 2, 5, 1, 1, 0]\n",
            "Alphavector: [2, 0, 0, 0, 0, 0, 0, 0, 0, 0, 0, 0, 0, 1, 0, 0, 0, 1, 0, 0, 0, 0, 0, 0, 1, 0, 2, 0, 0, 0, 0, 0, 0, 0, 0, 0, 0, 0, 0, 1, 0, 0, 0, 1, 0, 0, 0, 0, 0, 0, 1, 0, 2, 0, 0, 0, 0, 0, 0, 0, 0, 0, 0, 0, 0, 1, 0, 0, 0, 1, 0, 0, 0, 0, 0, 0, 1, 0, 2, 0, 0, 0, 0, 0, 0, 0, 0, 0, 0, 0, 0, 1, 0, 0, 0, 1, 0, 0, 0, 0, 0, 0, 1, 0, 2, 0, 0, 0, 0, 0, 0, 0, 0, 0, 0, 0, 0, 1, 0, 0, 0, 1, 0, 0, 0, 0, 0, 0, 1, 0, 2, 0, 0, 0, 0, 0, 0, 0, 0, 0, 0, 0, 0, 1, 0, 0, 0, 1, 0, 0, 0, 0, 0, 0, 1, 0, 2, 0, 0, 0, 0, 0, 0, 0, 0, 0, 0, 0, 0, 1, 0, 0, 0, 1, 0, 0, 0, 0, 0, 0, 1, 0, 2, 0, 0, 0, 0, 0, 0, 0, 0, 0, 0, 0, 0, 1, 0, 0, 0, 1, 0, 0, 0, 0, 0, 0, 1, 0, 2, 0, 0, 0, 0, 0, 0, 0, 0, 0, 0, 0, 0, 1, 0, 0, 0, 1, 0, 0, 0, 0, 0, 0, 1, 0, 2, 0, 0, 0, 0, 0, 0, 0, 0, 0, 0, 0, 0, 1, 0, 0, 0, 1, 0, 0, 0, 0, 0, 0, 1, 0, 2, 0, 0, 0, 0, 0, 0, 0, 0, 0, 0, 0, 0, 1, 0, 0, 0, 1, 0, 0, 0, 0, 0, 0, 1, 0, 2, 0, 0, 0, 0, 0, 0, 0, 0, 0, 0, 0, 0, 1, 0, 0, 0, 1, 0, 0, 0, 0, 0, 0, 1, 0, 2, 0, 0, 0, 0, 0, 0, 0, 0, 0, 0, 0, 0, 1, 0, 0, 0, 1, 0, 0, 0, 0, 0, 0, 1, 0, 2, 0, 0, 0, 0, 0, 0, 0, 0, 0, 0, 0, 0, 1, 0, 0, 0, 1, 0, 0, 0, 0, 0, 0, 1, 0]\n"
          ],
          "name": "stdout"
        }
      ]
    },
    {
      "cell_type": "markdown",
      "metadata": {
        "id": "OYLjHCKP12rR"
      },
      "source": [
        "# Building Alpha model architecture \n",
        "\n",
        "Following is the architecture of the model that will learn Alpha representation:\n",
        "\n",
        "Input shape: 250 * 50 ( RGB )\n",
        "\n",
        "\n",
        "* 2 Convolution layers with 64  filters\n",
        "* A Max Pool layer with pool size 2 * 2   \n",
        "* 2 Convolution layers with 128  filters\n",
        "* A Max Pool layer with pool size 2 * 2    \n",
        "* 6 Convolution layers with 256  filters\n",
        "* 3 Convolution layers with 512  filters\n",
        "* GLobal Average Pooling layer\n",
        "* Dense  layer with 4096 units\n",
        "* Dropout layer with rate 0.5\n",
        "* Dense  layer with 4096 units\n",
        "* Dropout layer with rate 0.5\n",
        "* Dense  layer with 364 units (Output)\n",
        "\n",
        "For all convolution layers, keep kernel size as 3 * 3, use ReLu activation \n",
        "\n",
        "For all max pool layers, keep stride as 2\n",
        "\n",
        "For all dense layers, except the final layer use ReLu activation.\n",
        "\n",
        "For final layer, use sigmoid activation.\n",
        "\n",
        "**Loss function**: Binary cross-entropy\n",
        "\n",
        "**Similarity Metric**: Cosine Similarity\n",
        "\n",
        "You need to make a function that will take a learning rate as parameter as return the compiled Alpha model.\n",
        "\n",
        "---\n",
        "\n",
        "**(3 points)**\n",
        "\n",
        "---"
      ]
    },
    {
      "cell_type": "code",
      "metadata": {
        "id": "2qOc5FfC12rS"
      },
      "source": [
        "#Insert the code for function that returns a model which will predict Alpharepresentation\n",
        "\n",
        "def Alpha_model(learning_rate=1e-4):\n",
        "    # Instantiate Sequential model\n",
        "    model = tf.keras.models.Sequential()\n",
        "    \n",
        "    # Add Layers\n",
        "    model.add(tf.keras.layers.Conv2D(64, kernel_size=(3,3), activation='relu', input_shape=(IMG_HEIGHT,IMG_WIDTH, 3),padding='same'))\n",
        "    model.add(tf.keras.layers.Conv2D(64, kernel_size=(3,3), activation='relu',padding='same'))\n",
        "    model.add(tf.keras.layers.MaxPool2D(pool_size=(2,2), strides=(2,2)))\n",
        "    model.add(tf.keras.layers.Conv2D(128,kernel_size=(3,3), activation='relu',padding='same'))\n",
        "    model.add(tf.keras.layers.Conv2D(128,kernel_size=(3,3), activation='relu',padding='same'))\n",
        "    model.add(tf.keras.layers.MaxPool2D(pool_size=(2,2), strides=(2,2)))\n",
        "    model.add(tf.keras.layers.Conv2D(256,kernel_size=(3,3), activation='relu',padding='same'))\n",
        "    model.add(tf.keras.layers.Conv2D(256,kernel_size=(3,3), activation='relu',padding='same'))\n",
        "    model.add(tf.keras.layers.Conv2D(256,kernel_size=(3,3), activation='relu',padding='same'))\n",
        "    model.add(tf.keras.layers.Conv2D(256,kernel_size=(3,3), activation='relu',padding='same'))\n",
        "    model.add(tf.keras.layers.Conv2D(256,kernel_size=(3,3), activation='relu',padding='same'))\n",
        "    model.add(tf.keras.layers.Conv2D(256,kernel_size=(3,3), activation='relu',padding='same'))\n",
        "    model.add(tf.keras.layers.Conv2D(512,kernel_size=(3,3), activation='relu',padding='same'))\n",
        "    model.add(tf.keras.layers.Conv2D(512,kernel_size=(3,3), activation='relu',padding='same'))\n",
        "    model.add(tf.keras.layers.Conv2D(512,kernel_size=(3,3), activation='relu',padding='same'))\n",
        "    model.add(tf.keras.layers.GlobalAveragePooling2D())\n",
        "    model.add(tf.keras.layers.Dense(4096, activation='relu'))\n",
        "    model.add(tf.keras.layers.Dropout(0.5))\n",
        "    model.add(tf.keras.layers.Dense(4096, activation='relu'))\n",
        "    model.add(tf.keras.layers.Dropout(0.5))\n",
        "    model.add(tf.keras.layers.Dense(364, activation='sigmoid'))\n",
        "    \n",
        "\n",
        "    \n",
        "    # Define optimizers(Adam Optimizers), loss function and similarity metrics\n",
        "    opt = tf.keras.optimizers.Adam(learning_rate=learning_rate)\n",
        "    cat_loss = tf.keras.losses.BinaryCrossentropy()\n",
        "    acc_metrics = [tf.keras.metrics.CosineSimilarity()]\n",
        "    \n",
        "    \n",
        "    # Compile the model\n",
        "    model.compile(optimizer=opt, loss=cat_loss, metrics=acc_metrics)\n",
        "    \n",
        "    \n",
        "    # return model\n",
        "    return model\n",
        "    "
      ],
      "execution_count": null,
      "outputs": []
    },
    {
      "cell_type": "markdown",
      "metadata": {
        "id": "St0Ngp7112rS"
      },
      "source": [
        "Following is the architecture of the Omega model, i.e. model that will learn to predict Omega representation:\n",
        "\n",
        "Input shape: 250 * 50 ( RGB )\n",
        "\n",
        "\n",
        "* 2 Convolution layers with 64  filters\n",
        "* A Max Pool layer with pool size 2 * 2   \n",
        "* 2 Convolution layers with 128  filters\n",
        "* A Max Pool layer with pool size 2 * 2    \n",
        "* 6 Convolution layers with 256  filters\n",
        "* 3 Convolution layers with 512  filters\n",
        "* GLobal Average Pooling layer\n",
        "* Dense  layer with 4096 units\n",
        "* Dropout layer with rate 0.5\n",
        "* Dense  layer with 4096 units\n",
        "* Dropout layer with rate 0.5\n",
        "* Dense  layer with 165 units (Output)\n",
        "\n",
        "For all convolution layers, keep kernel size as 3 * 3, use ReLu activation \n",
        "\n",
        "For all max pool layers, keep stride as 2\n",
        "\n",
        "For all dense layers, use ReLu activation.\n",
        "\n",
        "**Loss function**: Mean-squared error\n",
        "\n",
        "**Similarity Metric**: Cosine Similarity\n",
        "\n",
        "You need to make a function that will take a learning rate as parameter as return the compiled Omega model.\n",
        "\n",
        "---\n",
        "\n",
        "**(3 points)**\n",
        "\n",
        "---"
      ]
    },
    {
      "cell_type": "code",
      "metadata": {
        "id": "O-FOj3Z212rT"
      },
      "source": [
        "#Insert the code for function that returns a model which will predict Omega representation\n",
        "\n",
        "def Omega_model(learning_rate=1e-4):\n",
        "    # Instantiate Sequential model\n",
        "    model = tf.keras.models.Sequential()\n",
        "    \n",
        "    # Add Layers\n",
        "    model.add(tf.keras.layers.Conv2D(64, kernel_size=(3,3), activation='relu',input_shape=(IMG_HEIGHT,IMG_WIDTH,3)))\n",
        "    model.add(tf.keras.layers.Conv2D(64, kernel_size=(3,3), activation='relu', padding='same'))\n",
        "    model.add(tf.keras.layers.MaxPool2D(pool_size=(2,2), strides=(2,2)))\n",
        "    model.add(tf.keras.layers.Conv2D(128,kernel_size=(3,3), activation='relu', padding='same'))\n",
        "    model.add(tf.keras.layers.Conv2D(128,kernel_size=(3,3), activation='relu', padding='same'))\n",
        "    model.add(tf.keras.layers.MaxPool2D(pool_size=(2,2), strides=(2,2)))\n",
        "    model.add(tf.keras.layers.Conv2D(256,kernel_size=(3,3), activation='relu', padding='same'))\n",
        "    model.add(tf.keras.layers.Conv2D(256,kernel_size=(3,3), activation='relu', padding='same'))\n",
        "    model.add(tf.keras.layers.Conv2D(256,kernel_size=(3,3), activation='relu', padding='same'))\n",
        "    model.add(tf.keras.layers.Conv2D(256,kernel_size=(3,3), activation='relu', padding='same'))\n",
        "    model.add(tf.keras.layers.Conv2D(256,kernel_size=(3,3), activation='relu', padding='same'))\n",
        "    model.add(tf.keras.layers.Conv2D(256,kernel_size=(3,3), activation='relu', padding='same'))\n",
        "    model.add(tf.keras.layers.Conv2D(512,kernel_size=(3,3), activation='relu', padding='same'))\n",
        "    model.add(tf.keras.layers.Conv2D(512,kernel_size=(3,3), activation='relu', padding='same'))\n",
        "    model.add(tf.keras.layers.Conv2D(512,kernel_size=(3,3), activation='relu', padding='same'))\n",
        "    model.add(tf.keras.layers.GlobalAveragePooling2D())\n",
        "    model.add(tf.keras.layers.Dense(4096, activation='relu'))\n",
        "    model.add(tf.keras.layers.Dropout(0.5))\n",
        "    model.add(tf.keras.layers.Dense(4096, activation='relu'))\n",
        "    model.add(tf.keras.layers.Dropout(0.5))\n",
        "    model.add(tf.keras.layers.Dense(165, activation='relu'))\n",
        "    \n",
        "\n",
        "    # Define optimizers (Adam Optimizer), loss function and similarity metrics\n",
        "    opt = tf.keras.optimizers.Adam(learning_rate=learning_rate)\n",
        "    cat_loss = tf.keras.losses.MeanSquaredError()\n",
        "    acc_metrics = [tf.keras.metrics.CosineSimilarity()]\n",
        "    \n",
        "    \n",
        "    # Compile the model\n",
        "    model.compile(optimizer=opt, loss=cat_loss, metrics=acc_metrics)\n",
        "    \n",
        "    \n",
        "    # return model\n",
        "    return model\n",
        "    "
      ],
      "execution_count": null,
      "outputs": []
    },
    {
      "cell_type": "markdown",
      "metadata": {
        "id": "8bqfuahL12rU"
      },
      "source": [
        "Why did we use BCE as loss function and sigmoid as activation for final layer in Alpha model, while MSE and ReLu for Omega model? \n",
        "\n",
        "----\n",
        "\n",
        "**2 points**\n",
        "\n",
        "---\n",
        "- MSE is best used for regression tasks where as BCE is used for classification tasks.\n",
        "\n",
        "- Sigmoid function best predicts the probability as the output where as the relu fuction makes training process faster. It also increases the non-linearity in the images.\n",
        "\n"
      ]
    },
    {
      "cell_type": "markdown",
      "metadata": {
        "id": "2pFWucqFwwDv"
      },
      "source": [
        "## Seen and Unseen Words\n",
        "\n",
        "Words whose images hase been seen by the model during training are termed as seen words, while those which are part of the test set but not seen during training are called unseen words.\n",
        "\n",
        "----\n",
        "\n",
        "**1 point**\n",
        "\n",
        "---"
      ]
    },
    {
      "cell_type": "code",
      "metadata": {
        "id": "zjqQ_OOQ12ra",
        "colab": {
          "base_uri": "https://localhost:8080/"
        },
        "outputId": "9ed85781-0f82-4e07-f37d-6657b52a96ab"
      },
      "source": [
        "#Insert code to print seen word classes \n",
        "seen_classes = train_df['Label'].unique()\n",
        "print(\"Train Classes:\")\n",
        "print(train_classes)\n",
        "\n",
        "\n",
        "#Insert code to print unseen word classes from test set\n",
        "test_classes = test_df['Label'].unique()\n",
        "unseen_classes = list()\n",
        "print(\"\\nUnseen Word Classes from Test set:\")\n",
        "for cls in test_classes:\n",
        "  if cls not in train_classes:\n",
        "      unseen_classes.append(cls)\n",
        "print(unseen_classes)"
      ],
      "execution_count": null,
      "outputs": [
        {
          "output_type": "stream",
          "text": [
            "Train Classes:\n",
            "['search' 'pages' 'like' 'had' 'who' 'copyright' 'before' 'products' 'do'\n",
            " 'sports' 'security' 'community' 'that' 'number' 'high' 'privacy' 'about'\n",
            " 'add' 'should' 'our' 'family' 'last' 'or' 'based' 'when' 'web' 'service'\n",
            " 'p' 'index' 'two' 'real' 'prices' 'may' 'set' 'we' 'with' 'special'\n",
            " 'mail' 'development' 'general' 'ebay' 'want' 'way' 'out' 'know' 'then'\n",
            " 'us' 'south' 'life' 'does' 'city' 'also' 'order' 'site' 'part' 'all'\n",
            " 'phone' 'so' 'view' 'would' 'posted' 'how' 'info' 'day' 'own' 'i' 'top'\n",
            " 'technology' 'is' 'date' 'be' 'report' 'links' 'name' 'code' 'travel'\n",
            " 'over' 'where' 'if' 'off' 'uk' 'company' 'said' 'section' 'map' 'items'\n",
            " 'games' 'de' 'take' 'he' 'type' 'both' 'any' 'get' 'show' 'm' 'you'\n",
            " 'management' 'g' 'a' 'can' 'user' 'your' 'first' 'through' 'used'\n",
            " 'version' 'check' 'has' 'free' 'pm' 'please' 'under' 'been' 'even' 'same'\n",
            " 'software' 'into' 'education' 'project' 'b' 'book' 'an' 'services' 'very'\n",
            " 'results' 'january' 'public' 'best' 'to' 'more' 'system' 'one' 'on'\n",
            " 'which' 'line' 'right' 'group' 'case' 'me' 'they' 'forum' 'jan' 'o'\n",
            " 'home' 'information' 'hotel' 'there' 'up' 'her' 'find' 'buy' 't' 'click'\n",
            " 'united' 'video' 're' 'but' 'design' 'store' 'did' 'available' 'w' 'were'\n",
            " 'reserved' 'international' 'make' 'local' 'work' 'found' 'go' 'for'\n",
            " 'house' 'time' 'national' 'shipping' 'my' 'school' 'after' 'she' 'page'\n",
            " 'research' 'within' 'just' 'sign' 'open' 'state' 'post' 'list' 'at' 'am'\n",
            " 'them' 'x' 'today' 'n' 'what' 'send' 'e' 'world' 'review' 'new' 'r'\n",
            " 'next' 'online' 'help' 'rights' 'need' 'policy' 'only' 'f' 'books' 'year'\n",
            " 'those' 'here' 'support' 'program' 'other' 'comments' 'related' 'by' 'of'\n",
            " 'price' 'in' 'well' 'could' 's' 'item' 'news' 'dvd' 'business' 'long'\n",
            " 'back' 'c' 'years' 'center' 'it' 'each' 'than' 'because' 'will' 'office'\n",
            " 'l' 'have' 'such' 'member' 'product' 'd' 'not' 'details' 'this' 'states'\n",
            " 'use' 'health' 'good' 'now' 'was' 'made' 'the' 'days' 'are' 'car'\n",
            " 'hotels' 'from' 'must' 'reviews' 'between' 'using' 'subject' 'and' 'see'\n",
            " 'people' 'full' 'area' 'address' 'data' 'message' 'internet' 'their'\n",
            " 'some' 'most' 'website' 'read' 'black' 'women' 'music' 'email'\n",
            " 'university' 'link' 'contact' 'being' 'much' 'as' 'no' 'his' 'terms'\n",
            " 'file' 'these' 'many' 'its' 'great']\n",
            "\n",
            "Unseen Word Classes from Test set:\n",
            "['game', 'total', 'american', 'end', 'download', 'following', 'power', 'him', 'computer', 'network', 'county', 'members', 'three', 'place', 'down', 'h', 'photo', 'care', 'while', 'systems']\n"
          ],
          "name": "stdout"
        }
      ]
    },
    {
      "cell_type": "code",
      "metadata": {
        "id": "CijrdSMD12rU"
      },
      "source": [
        "NUM_EPOCHS=30\n",
        "BATCH_SIZE=8"
      ],
      "execution_count": null,
      "outputs": []
    },
    {
      "cell_type": "markdown",
      "metadata": {
        "id": "sKqf06tp12rV"
      },
      "source": [
        "# Tuning Hyperparameters for Omega Model\n",
        "We will now tune the *learning rate* for the first model. \n",
        "For that, load the train and validation data (images and their labels, i.e. Omega vectors) \n",
        "\n",
        "----\n",
        "\n",
        "**1 point**\n",
        "\n",
        "---"
      ]
    },
    {
      "cell_type": "code",
      "metadata": {
        "id": "07Pdqt6Z12rV"
      },
      "source": [
        "#Insert the code for loading train and validation set images and their corresponding labels \n",
        "def omega_generator_func(folder_path):\n",
        "  for root, dirs, files in os.walk(folder_path):\n",
        "    x_list = list()\n",
        "    y_list = list()\n",
        "    for file in files:\n",
        "      img_var = cv2.imread(folder_path+'/'+file)\n",
        "      # img = cv2.cvtColor(img_var, cv2.COLOR_BGR2GRAY)\n",
        "\n",
        "      x_list.append(img_var)\n",
        "\n",
        "      word = file.split('_')[0]\n",
        "      omega_vector = get_Omega_vector(word)\n",
        "      y_list.append(omega_vector)\n",
        "\n",
        "\n",
        "  return (x_list,y_list)\n",
        "\n",
        "x_train, y_train = omega_generator_func(train_dir_path)\n",
        "\n",
        "x_train=np.asarray(x_train).astype(np.int)\n",
        "y_train=np.asarray(y_train).astype(np.int)\n",
        "\n",
        "x_valid, y_valid = omega_generator_func(validation_dir_path)\n",
        "\n",
        "x_valid=np.asarray(x_valid).astype(np.int)\n",
        "y_valid=np.asarray(y_valid).astype(np.int)"
      ],
      "execution_count": null,
      "outputs": []
    },
    {
      "cell_type": "markdown",
      "metadata": {
        "id": "4m_5CCl13WQ0"
      },
      "source": [
        "Now find the best LR for the Omega model.\n",
        "\n",
        "----\n",
        "\n",
        "**4 points**\n",
        "\n",
        "---"
      ]
    },
    {
      "cell_type": "code",
      "metadata": {
        "id": "WE_bbMO312rW",
        "colab": {
          "base_uri": "https://localhost:8080/"
        },
        "outputId": "3f2d84f9-9c12-48af-8768-d647363300b5"
      },
      "source": [
        "def determine_Omega_lr():\n",
        "    learning_rates = [1e-3,1e-4,1e-5]\n",
        "    avg_val_similarity = []\n",
        "    \n",
        "\n",
        "    for l_rate in learning_rates:\n",
        "        \n",
        "        # Insert your code here to build a model with the current learning rate\n",
        "        model = Omega_model(learning_rate=l_rate)\n",
        "        \n",
        "        # Insert your code here to train the model using the training set and validate using the validation set\n",
        "        trained_model = model.fit(x_train,y_train, epochs=NUM_EPOCHS,validation_data=(x_valid,y_valid),batch_size=BATCH_SIZE)\n",
        "        \n",
        "        # Insert your code here to find the average validation accuracy for this model setting and append it to the maintained list\n",
        "        val_sim_arr = trained_model.history[\"val_cosine_similarity\"]\n",
        "        avg_sim = np.mean(val_sim_arr)\n",
        "        avg_val_similarity.append(avg_sim)\n",
        "\n",
        "    # Insert your code here to figure out the learning rate which gives the highest average validation accuracy. Print the value and return it.\n",
        "    m_sim = max(avg_val_similarity)\n",
        "    m_ind = avg_val_similarity.index(m_sim)\n",
        "    best_lr = learning_rates[m_ind]\n",
        "    return best_lr\n",
        "\n",
        "\n",
        "# determine_best_learning_rate() is being called here\n",
        "best_Omega_lr = determine_Omega_lr()\n",
        "best_Omega_lr"
      ],
      "execution_count": null,
      "outputs": [
        {
          "output_type": "stream",
          "text": [
            "Epoch 1/5\n",
            "257/257 [==============================] - 41s 156ms/step - loss: 1250942.0904 - cosine_similarity: 0.5316 - val_loss: 1.0884 - val_cosine_similarity: 0.8203\n",
            "Epoch 2/5\n",
            "257/257 [==============================] - 40s 155ms/step - loss: 1.0371 - cosine_similarity: 0.8127 - val_loss: 0.7535 - val_cosine_similarity: 0.8409\n",
            "Epoch 3/5\n",
            "257/257 [==============================] - 40s 155ms/step - loss: 0.8137 - cosine_similarity: 0.8327 - val_loss: 0.6378 - val_cosine_similarity: 0.8579\n",
            "Epoch 4/5\n",
            "257/257 [==============================] - 40s 155ms/step - loss: 0.7128 - cosine_similarity: 0.8379 - val_loss: 0.6101 - val_cosine_similarity: 0.8582\n",
            "Epoch 5/5\n",
            "257/257 [==============================] - 40s 154ms/step - loss: 0.6919 - cosine_similarity: 0.8403 - val_loss: 0.5584 - val_cosine_similarity: 0.8604\n",
            "Epoch 1/5\n",
            "257/257 [==============================] - 42s 159ms/step - loss: 1.2613 - cosine_similarity: 0.7771 - val_loss: 0.6860 - val_cosine_similarity: 0.8621\n",
            "Epoch 2/5\n",
            "257/257 [==============================] - 40s 157ms/step - loss: 0.7478 - cosine_similarity: 0.8404 - val_loss: 0.5653 - val_cosine_similarity: 0.8629\n",
            "Epoch 3/5\n",
            "257/257 [==============================] - 40s 157ms/step - loss: 0.6699 - cosine_similarity: 0.8418 - val_loss: 0.5562 - val_cosine_similarity: 0.8655\n",
            "Epoch 4/5\n",
            "257/257 [==============================] - 40s 157ms/step - loss: 0.6587 - cosine_similarity: 0.8486 - val_loss: 0.5423 - val_cosine_similarity: 0.8684\n",
            "Epoch 5/5\n",
            "257/257 [==============================] - 40s 157ms/step - loss: 0.6147 - cosine_similarity: 0.8514 - val_loss: 0.5067 - val_cosine_similarity: 0.8693\n",
            "Epoch 1/5\n",
            "257/257 [==============================] - 42s 159ms/step - loss: 1.6365 - cosine_similarity: 0.6589 - val_loss: 0.6987 - val_cosine_similarity: 0.8571\n",
            "Epoch 2/5\n",
            "257/257 [==============================] - 41s 159ms/step - loss: 0.9006 - cosine_similarity: 0.8097 - val_loss: 0.6987 - val_cosine_similarity: 0.8622\n",
            "Epoch 3/5\n",
            "257/257 [==============================] - 41s 159ms/step - loss: 0.8002 - cosine_similarity: 0.8216 - val_loss: 0.5874 - val_cosine_similarity: 0.8642\n",
            "Epoch 4/5\n",
            "257/257 [==============================] - 41s 159ms/step - loss: 0.7518 - cosine_similarity: 0.8247 - val_loss: 0.6001 - val_cosine_similarity: 0.8649\n",
            "Epoch 5/5\n",
            "257/257 [==============================] - 41s 159ms/step - loss: 0.7281 - cosine_similarity: 0.8303 - val_loss: 0.5662 - val_cosine_similarity: 0.8655\n"
          ],
          "name": "stdout"
        },
        {
          "output_type": "execute_result",
          "data": {
            "text/plain": [
              "0.0001"
            ]
          },
          "metadata": {
            "tags": []
          },
          "execution_count": 162
        }
      ]
    },
    {
      "cell_type": "markdown",
      "metadata": {
        "id": "iUzZ3kKD12rX"
      },
      "source": [
        "# Tuning Hyperparameters for Alpha Model\n",
        "We will now tune the *learning rate* for the second model. \n",
        "\n",
        "For that, load the train and validation data (images and their labels, i.e. Alpha vectors) \n",
        "\n",
        "---\n",
        "\n",
        "**1 Point**\n",
        "\n",
        "---"
      ]
    },
    {
      "cell_type": "code",
      "metadata": {
        "id": "ngXD2nHA30iH"
      },
      "source": [
        "#Insert the code for loading train and validation set images and their corresponding labels (1 point)\n",
        "def alpha_generator_func(folder_path):\n",
        "  for root, dirs, files in os.walk(folder_path):\n",
        "    x_list = list()\n",
        "    y_list = list()\n",
        "    for file in files:\n",
        "      img_var = cv2.imread(folder_path+'/'+file)\n",
        "      # img = cv2.cvtColor(img_var, cv2.COLOR_BGR2GRAY)\n",
        "\n",
        "      x_list.append(img_var)\n",
        "\n",
        "      word = file.split('_')[0]\n",
        "      alpha_vector = get_Alpha_vector(word)\n",
        "      y_list.append(alpha_vector)\n",
        "\n",
        "\n",
        "  return (x_list,y_list)\n",
        "\n",
        "alpha_x_train, alpha_y_train = alpha_generator_func(train_dir_path)\n",
        "\n",
        "alpha_x_train=np.asarray(alpha_x_train).astype(np.int)\n",
        "alpha_y_train=np.asarray(alpha_y_train).astype(np.int)\n",
        "\n",
        "\n",
        "alpha_x_valid, alpha_y_valid = alpha_generator_func(validation_dir_path)\n",
        "\n",
        "alpha_x_valid=np.asarray(alpha_x_valid).astype(np.int)\n",
        "alpha_y_valid=np.asarray(alpha_y_valid).astype(np.int)"
      ],
      "execution_count": null,
      "outputs": []
    },
    {
      "cell_type": "markdown",
      "metadata": {
        "id": "eSscLeEi3_Fe"
      },
      "source": [
        "Now find the best LR for the Omega model.\n",
        "\n",
        "----\n",
        "\n",
        "**4 points**\n",
        "\n",
        "---"
      ]
    },
    {
      "cell_type": "code",
      "metadata": {
        "id": "AnnKLhfi12rX",
        "colab": {
          "base_uri": "https://localhost:8080/"
        },
        "outputId": "7055c1a4-b2ab-4084-a1d2-af0240699d66"
      },
      "source": [
        "def determine_Alpha_lr():\n",
        "    learning_rates = [1e-3,1e-4,1e-5]\n",
        "    avg_val_similarity = []\n",
        "    \n",
        "\n",
        "    for l_rate in learning_rates:\n",
        "        \n",
        "        # Insert your code here to build a model with the current learning rate\n",
        "        model = Alpha_model(learning_rate=l_rate)\n",
        "        \n",
        "        # Insert your code here to train the model using the training set and validate using the validation set\n",
        "        trained_model = model.fit(alpha_x_train,alpha_y_train,\n",
        "                                  epochs=NUM_EPOCHS,\n",
        "                                  validation_data=(alpha_x_valid,alpha_y_valid),\n",
        "                                  batch_size=BATCH_SIZE)\n",
        "        \n",
        "        # Insert your code here to find the average validation similarity for this model setting and append it to the maintained list\n",
        "        val_sim_arr = trained_model.history[\"val_cosine_similarity\"]\n",
        "        avg_sim = np.mean(val_sim_arr)\n",
        "        avg_val_similarity.append(avg_sim)\n",
        "\n",
        "    # Insert your code here to figure out the learning rate which gives the highest average validation similarity. Print the value and return it.\n",
        "    m_sim = max(avg_val_similarity)\n",
        "    m_ind = avg_val_similarity.index(m_sim)\n",
        "    best_lr = learning_rates[m_ind]\n",
        "    return best_lr\n",
        "\n",
        "\n",
        "# determine_best_learning_rate() is being called here\n",
        "best_Alpha_lr = determine_Alpha_lr()\n",
        "best_Alpha_lr"
      ],
      "execution_count": null,
      "outputs": [
        {
          "output_type": "stream",
          "text": [
            "Epoch 1/5\n",
            "257/257 [==============================] - 42s 157ms/step - loss: 0.5184 - cosine_similarity: 0.4465 - val_loss: 0.3840 - val_cosine_similarity: 0.4586\n",
            "Epoch 2/5\n",
            "257/257 [==============================] - 40s 156ms/step - loss: 0.3976 - cosine_similarity: 0.4844 - val_loss: 0.3835 - val_cosine_similarity: 0.4570\n",
            "Epoch 3/5\n",
            "257/257 [==============================] - 40s 156ms/step - loss: 0.3958 - cosine_similarity: 0.4711 - val_loss: 0.3825 - val_cosine_similarity: 0.4592\n",
            "Epoch 4/5\n",
            "257/257 [==============================] - 40s 156ms/step - loss: 0.3949 - cosine_similarity: 0.4799 - val_loss: 0.3816 - val_cosine_similarity: 0.4611\n",
            "Epoch 5/5\n",
            "257/257 [==============================] - 40s 156ms/step - loss: 0.3907 - cosine_similarity: 0.4733 - val_loss: 0.3830 - val_cosine_similarity: 0.4623\n",
            "Epoch 1/5\n",
            "257/257 [==============================] - 43s 161ms/step - loss: 0.4442 - cosine_similarity: 0.4328 - val_loss: 0.3787 - val_cosine_similarity: 0.4549\n",
            "Epoch 2/5\n",
            "257/257 [==============================] - 41s 160ms/step - loss: 0.3891 - cosine_similarity: 0.4670 - val_loss: 0.3483 - val_cosine_similarity: 0.4697\n",
            "Epoch 3/5\n",
            "257/257 [==============================] - 41s 159ms/step - loss: 0.3686 - cosine_similarity: 0.4815 - val_loss: 0.3504 - val_cosine_similarity: 0.4675\n",
            "Epoch 4/5\n",
            "257/257 [==============================] - 41s 159ms/step - loss: 0.3781 - cosine_similarity: 0.4753 - val_loss: 0.3789 - val_cosine_similarity: 0.4593\n",
            "Epoch 5/5\n",
            "257/257 [==============================] - 41s 158ms/step - loss: 0.3871 - cosine_similarity: 0.4684 - val_loss: 0.2963 - val_cosine_similarity: 0.4754\n",
            "Epoch 1/5\n",
            "257/257 [==============================] - 43s 162ms/step - loss: 0.5420 - cosine_similarity: 0.3939 - val_loss: 0.3786 - val_cosine_similarity: 0.4539\n",
            "Epoch 2/5\n",
            "257/257 [==============================] - 41s 161ms/step - loss: 0.4163 - cosine_similarity: 0.4416 - val_loss: 0.3678 - val_cosine_similarity: 0.4578\n",
            "Epoch 3/5\n",
            "257/257 [==============================] - 41s 161ms/step - loss: 0.4014 - cosine_similarity: 0.4513 - val_loss: 0.3546 - val_cosine_similarity: 0.4625\n",
            "Epoch 4/5\n",
            "257/257 [==============================] - 41s 160ms/step - loss: 0.3856 - cosine_similarity: 0.4562 - val_loss: 0.3456 - val_cosine_similarity: 0.4669\n",
            "Epoch 5/5\n",
            "257/257 [==============================] - 41s 161ms/step - loss: 0.3812 - cosine_similarity: 0.4704 - val_loss: 0.3435 - val_cosine_similarity: 0.4699\n"
          ],
          "name": "stdout"
        },
        {
          "output_type": "execute_result",
          "data": {
            "text/plain": [
              "0.0001"
            ]
          },
          "metadata": {
            "tags": []
          },
          "execution_count": 164
        }
      ]
    },
    {
      "cell_type": "markdown",
      "metadata": {
        "id": "7VwwwHmz12rX"
      },
      "source": [
        "---\n",
        "\n",
        "Describe the purpose and arguments of following callbacks from `tensorflow.keras.callbacks`\n",
        "\n",
        "\n",
        "1. EarlyStopping() **[2 Points]**\n",
        "\n",
        "> *It is used to stop training of the model when metrics has stopped improving. Some of its arguments are:-*\n",
        "- monitor - It is quantity to be monitored.\n",
        "- patience - The number of epochs with no improvement to look before stopping.\n",
        "\n",
        "2. ReduceLROnPlateau() **[2 Points]**\n",
        "\n",
        "> *It is used to erduce the learning rate when there is no improvement in a metric. Its arguments:-*\n",
        "- monitor - It is quantity to be monitored.\n",
        "- factor - The factor by which the learning rate has to be reduced.\n",
        "- patience - The number of epochs with no improvement to look before stopping.\n",
        "- cooldown - It is the number of epochs to wait before resuming normal operation after learning rate has reduced.\n",
        "- min_lr - The lower bound on learning rate.\n",
        "\n",
        "3. CSVLogger() **[2 Points]**\n",
        "\n",
        "> *It is used to store epoch results into a csv file of choice. Its arguments:-*\n",
        "- filename - The path(name) of file where epoch results are to be stored.\n",
        "- separator - The string used to separate elements in the csv file.\n",
        "\n",
        "\n",
        "4. ModelCheckPoint()  **[2 Points]**\n",
        "\n",
        "> *It is used to save the model or model weights at some frequency. Its arguments:-*\n",
        "- filepath - It is the filepath to which checkpoints are added.\n",
        "- monitor - It is quantity to be monitored.\n",
        "- save_freq - It takes 'epoch' or integer as argument. It the fequency after which checkpoints are made.\n",
        "\n"
      ]
    },
    {
      "cell_type": "markdown",
      "metadata": {
        "id": "jjyJpqPJdo1N"
      },
      "source": [
        "# Model building and training using callbacks\n",
        "\n",
        "---\n",
        "Now build and summarize the Omega model as per the best learning rate value determined earlier.\n",
        "\n",
        "---\n",
        "\n",
        "**1 Point**\n",
        "\n",
        "---\n",
        "\n",
        "\n"
      ]
    },
    {
      "cell_type": "code",
      "metadata": {
        "id": "5faBvh2e12rY",
        "colab": {
          "base_uri": "https://localhost:8080/",
          "height": 1000
        },
        "outputId": "c8f5dbc2-4dcc-4d00-eb1f-6d5ea1feaf7f"
      },
      "source": [
        "# Insert code for building model using the best LR determined\n",
        "omega_model = Omega_model(learning_rate=best_Omega_lr)\n",
        "\n",
        "print(omega_model.summary())\n",
        "\n",
        "tf.keras.utils.plot_model(omega_model)"
      ],
      "execution_count": null,
      "outputs": [
        {
          "output_type": "stream",
          "text": [
            "Model: \"sequential_39\"\n",
            "_________________________________________________________________\n",
            "Layer (type)                 Output Shape              Param #   \n",
            "=================================================================\n",
            "conv2d_486 (Conv2D)          (None, 48, 248, 64)       1792      \n",
            "_________________________________________________________________\n",
            "conv2d_487 (Conv2D)          (None, 48, 248, 64)       36928     \n",
            "_________________________________________________________________\n",
            "max_pooling2d_76 (MaxPooling (None, 24, 124, 64)       0         \n",
            "_________________________________________________________________\n",
            "conv2d_488 (Conv2D)          (None, 24, 124, 128)      73856     \n",
            "_________________________________________________________________\n",
            "conv2d_489 (Conv2D)          (None, 24, 124, 128)      147584    \n",
            "_________________________________________________________________\n",
            "max_pooling2d_77 (MaxPooling (None, 12, 62, 128)       0         \n",
            "_________________________________________________________________\n",
            "conv2d_490 (Conv2D)          (None, 12, 62, 256)       295168    \n",
            "_________________________________________________________________\n",
            "conv2d_491 (Conv2D)          (None, 12, 62, 256)       590080    \n",
            "_________________________________________________________________\n",
            "conv2d_492 (Conv2D)          (None, 12, 62, 256)       590080    \n",
            "_________________________________________________________________\n",
            "conv2d_493 (Conv2D)          (None, 12, 62, 256)       590080    \n",
            "_________________________________________________________________\n",
            "conv2d_494 (Conv2D)          (None, 12, 62, 256)       590080    \n",
            "_________________________________________________________________\n",
            "conv2d_495 (Conv2D)          (None, 12, 62, 256)       590080    \n",
            "_________________________________________________________________\n",
            "conv2d_496 (Conv2D)          (None, 12, 62, 512)       1180160   \n",
            "_________________________________________________________________\n",
            "conv2d_497 (Conv2D)          (None, 12, 62, 512)       2359808   \n",
            "_________________________________________________________________\n",
            "conv2d_498 (Conv2D)          (None, 12, 62, 512)       2359808   \n",
            "_________________________________________________________________\n",
            "global_average_pooling2d_36  (None, 512)               0         \n",
            "_________________________________________________________________\n",
            "dense_108 (Dense)            (None, 4096)              2101248   \n",
            "_________________________________________________________________\n",
            "dropout_72 (Dropout)         (None, 4096)              0         \n",
            "_________________________________________________________________\n",
            "dense_109 (Dense)            (None, 4096)              16781312  \n",
            "_________________________________________________________________\n",
            "dropout_73 (Dropout)         (None, 4096)              0         \n",
            "_________________________________________________________________\n",
            "dense_110 (Dense)            (None, 165)               676005    \n",
            "=================================================================\n",
            "Total params: 28,964,069\n",
            "Trainable params: 28,964,069\n",
            "Non-trainable params: 0\n",
            "_________________________________________________________________\n",
            "None\n"
          ],
          "name": "stdout"
        },
        {
          "output_type": "execute_result",
          "data": {
            "image/png": "[encoded data removed]",
            "text/plain": [
              "<IPython.core.display.Image object>"
            ]
          },
          "metadata": {
            "tags": []
          },
          "execution_count": 165
        }
      ]
    },
    {
      "cell_type": "markdown",
      "metadata": {
        "id": "xSgQlN2R12rY"
      },
      "source": [
        "Now instantiate the four callbacks which you have described above.\n",
        "\n",
        "\n",
        "---\n",
        "\n",
        "**2 Points**\n",
        "\n",
        "---"
      ]
    },
    {
      "cell_type": "code",
      "metadata": {
        "id": "JmMUsp4312rY"
      },
      "source": [
        "# EarlyStopping after validation loss has not improved for 5 epochs \n",
        "o_es = tf.keras.callbacks.EarlyStopping(monitor='val_loss', patience=5)\n",
        "\n",
        "# ReduceLROnPlateau reducing LR by half when validation loss has not improved for 3 epochs. \n",
        "o_reduce_lrp = tf.keras.callbacks.ReduceLROnPlateau(monitor='val_loss',factor=0.5,patience=3)\n",
        "\n",
        "# CSVlogger for keeping logs in filename of your choice\n",
        "o_csvl = tf.keras.callbacks.CSVLogger(\"omega_data.csv\", separator=',')\n",
        "\n",
        "# ModelCheckpoint that saves the best weights of model after every 10 epochs\n",
        "o_model_checkpoint = tf.keras.callbacks.ModelCheckpoint(\"omega_checkpoint\",save_freq=10)\n",
        "\n",
        "# Make a list of all the callbacks\n",
        "omega_callbacks = [o_es,o_reduce_lrp,o_csvl,o_model_checkpoint]\n"
      ],
      "execution_count": null,
      "outputs": []
    },
    {
      "cell_type": "markdown",
      "metadata": {
        "id": "qEe2QedJ12rY"
      },
      "source": [
        "Now train the model using these callbacks for the loaded training word images.\n",
        "\n",
        "---\n",
        "\n",
        "**7 Points**\n",
        "\n",
        "---"
      ]
    },
    {
      "cell_type": "code",
      "metadata": {
        "id": "1B0rW-Fz12rY",
        "colab": {
          "base_uri": "https://localhost:8080/",
          "height": 1000
        },
        "outputId": "a22b2d0e-4a09-4cd3-f1dc-8648f9d3d77f"
      },
      "source": [
        "# Insert code to train with callbacks (2 points)\n",
        "trained_omega_model = omega_model.fit(x_train,y_train,\n",
        "                                      epochs=2,\n",
        "                                      validation_data=(x_valid,y_valid),\n",
        "                                      batch_size=BATCH_SIZE,\n",
        "                                      callbacks=omega_callbacks)\n",
        "\n",
        "\n",
        "# Insert your code here to obtain the lists: epochs, training similarity, validation similarity, training loss, validation loss from CSV log file (1 point)\n",
        "omega_df=pd.read_csv(\"omega_data.csv\")\n",
        "omega_epoch = omega_df['epoch'].tolist()\n",
        "omega_sim = omega_df['cosine_similarity'].tolist()\n",
        "omega_val_sim = omega_df['val_cosine_similarity'].tolist()\n",
        "omega_loss = omega_df['loss'].tolist()\n",
        "omega_val_loss = omega_df['val_loss'].tolist()\n",
        "\n",
        "\n",
        "\n",
        "\n",
        "# Insert your code here to plot Epochs Vs. training and validation accuracy (2 points)\n",
        "plt.plot(omega_epoch,omega_sim,label='Train similarity')\n",
        "plt.plot(omega_epoch,omega_val_sim,label=\"Validation similarity\")\n",
        "plt.legend()\n",
        "plt.xlabel('Epochs')\n",
        "plt.ylabel(\"Similarity\")\n",
        "plt.show()\n",
        "\n",
        "# Insert your code here to plot Epochs Vs. training and validation loss (2 points)\n",
        "plt.plot(omega_epoch,omega_loss,label='Train loss')\n",
        "plt.plot(omega_epoch,omega_val_loss,label=\"Validation loss\")\n",
        "plt.legend()\n",
        "plt.xlabel('Epochs')\n",
        "plt.ylabel(\"Losses\")\n",
        "plt.show()\n",
        "\n"
      ],
      "execution_count": null,
      "outputs": [
        {
          "output_type": "stream",
          "text": [
            "Epoch 1/2\n",
            " 10/257 [>.............................] - ETA: 38s - loss: 2.0139 - cosine_similarity: 0.5638INFO:tensorflow:Assets written to: omega_checkpoint/assets\n",
            " 20/257 [=>............................] - ETA: 1:21 - loss: 1.8487 - cosine_similarity: 0.6399INFO:tensorflow:Assets written to: omega_checkpoint/assets\n",
            " 30/257 [==>...........................] - ETA: 1:35 - loss: 1.7385 - cosine_similarity: 0.6769INFO:tensorflow:Assets written to: omega_checkpoint/assets\n",
            " 40/257 [===>..........................] - ETA: 1:36 - loss: 1.6457 - cosine_similarity: 0.6988INFO:tensorflow:Assets written to: omega_checkpoint/assets\n",
            " 50/257 [====>.........................] - ETA: 1:35 - loss: 1.5678 - cosine_similarity: 0.7138INFO:tensorflow:Assets written to: omega_checkpoint/assets\n",
            " 60/257 [======>.......................] - ETA: 1:33 - loss: 1.5048 - cosine_similarity: 0.7248INFO:tensorflow:Assets written to: omega_checkpoint/assets\n",
            " 70/257 [=======>......................] - ETA: 1:29 - loss: 1.4546 - cosine_similarity: 0.7338INFO:tensorflow:Assets written to: omega_checkpoint/assets\n",
            " 80/257 [========>.....................] - ETA: 1:25 - loss: 1.4124 - cosine_similarity: 0.7408INFO:tensorflow:Assets written to: omega_checkpoint/assets\n",
            " 90/257 [=========>....................] - ETA: 1:23 - loss: 1.3767 - cosine_similarity: 0.7465INFO:tensorflow:Assets written to: omega_checkpoint/assets\n",
            "100/257 [==========>...................] - ETA: 1:22 - loss: 1.3457 - cosine_similarity: 0.7514INFO:tensorflow:Assets written to: omega_checkpoint/assets\n",
            "110/257 [===========>..................] - ETA: 1:26 - loss: 1.3180 - cosine_similarity: 0.7557INFO:tensorflow:Assets written to: omega_checkpoint/assets\n",
            "120/257 [=============>................] - ETA: 1:21 - loss: 1.2938 - cosine_similarity: 0.7594INFO:tensorflow:Assets written to: omega_checkpoint/assets\n",
            "130/257 [==============>...............] - ETA: 1:17 - loss: 1.2728 - cosine_similarity: 0.7626INFO:tensorflow:Assets written to: omega_checkpoint/assets\n",
            "140/257 [===============>..............] - ETA: 1:13 - loss: 1.2532 - cosine_similarity: 0.7654INFO:tensorflow:Assets written to: omega_checkpoint/assets\n",
            "150/257 [================>.............] - ETA: 1:12 - loss: 1.2351 - cosine_similarity: 0.7679INFO:tensorflow:Assets written to: omega_checkpoint/assets\n",
            "160/257 [=================>............] - ETA: 1:04 - loss: 1.2184 - cosine_similarity: 0.7703INFO:tensorflow:Assets written to: omega_checkpoint/assets\n",
            "170/257 [==================>...........] - ETA: 58s - loss: 1.2029 - cosine_similarity: 0.7725INFO:tensorflow:Assets written to: omega_checkpoint/assets\n",
            "180/257 [====================>.........] - ETA: 53s - loss: 1.1886 - cosine_similarity: 0.7745INFO:tensorflow:Assets written to: omega_checkpoint/assets\n",
            "190/257 [=====================>........] - ETA: 46s - loss: 1.1755 - cosine_similarity: 0.7763INFO:tensorflow:Assets written to: omega_checkpoint/assets\n",
            "200/257 [======================>.......] - ETA: 40s - loss: 1.1632 - cosine_similarity: 0.7780INFO:tensorflow:Assets written to: omega_checkpoint/assets\n",
            "210/257 [=======================>......] - ETA: 33s - loss: 1.1518 - cosine_similarity: 0.7796INFO:tensorflow:Assets written to: omega_checkpoint/assets\n",
            "220/257 [========================>.....] - ETA: 26s - loss: 1.1410 - cosine_similarity: 0.7812INFO:tensorflow:Assets written to: omega_checkpoint/assets\n",
            "230/257 [=========================>....] - ETA: 19s - loss: 1.1309 - cosine_similarity: 0.7826INFO:tensorflow:Assets written to: omega_checkpoint/assets\n",
            "240/257 [===========================>..] - ETA: 12s - loss: 1.1214 - cosine_similarity: 0.7840INFO:tensorflow:Assets written to: omega_checkpoint/assets\n",
            "250/257 [============================>.] - ETA: 5s - loss: 1.1123 - cosine_similarity: 0.7852INFO:tensorflow:Assets written to: omega_checkpoint/assets\n",
            "257/257 [==============================] - 194s 751ms/step - loss: 1.1053 - cosine_similarity: 0.7862 - val_loss: 0.5931 - val_cosine_similarity: 0.8636\n",
            "Epoch 2/2\n",
            "  3/257 [..............................] - ETA: 39s - loss: 0.7240 - cosine_similarity: 0.8588INFO:tensorflow:Assets written to: omega_checkpoint/assets\n",
            " 13/257 [>.............................] - ETA: 2:42 - loss: 0.7628 - cosine_similarity: 0.8599INFO:tensorflow:Assets written to: omega_checkpoint/assets\n",
            " 23/257 [=>............................] - ETA: 2:56 - loss: 0.7606 - cosine_similarity: 0.8571INFO:tensorflow:Assets written to: omega_checkpoint/assets\n",
            " 33/257 [==>...........................] - ETA: 2:56 - loss: 0.7536 - cosine_similarity: 0.8530INFO:tensorflow:Assets written to: omega_checkpoint/assets\n",
            " 43/257 [====>.........................] - ETA: 2:51 - loss: 0.7460 - cosine_similarity: 0.8511INFO:tensorflow:Assets written to: omega_checkpoint/assets\n",
            " 53/257 [=====>........................] - ETA: 2:44 - loss: 0.7414 - cosine_similarity: 0.8498INFO:tensorflow:Assets written to: omega_checkpoint/assets\n",
            " 63/257 [======>.......................] - ETA: 2:40 - loss: 0.7403 - cosine_similarity: 0.8485INFO:tensorflow:Assets written to: omega_checkpoint/assets\n",
            " 73/257 [=======>......................] - ETA: 2:38 - loss: 0.7421 - cosine_similarity: 0.8475INFO:tensorflow:Assets written to: omega_checkpoint/assets\n",
            " 83/257 [========>.....................] - ETA: 2:25 - loss: 0.7443 - cosine_similarity: 0.8470INFO:tensorflow:Assets written to: omega_checkpoint/assets\n",
            " 93/257 [=========>....................] - ETA: 2:17 - loss: 0.7467 - cosine_similarity: 0.8464INFO:tensorflow:Assets written to: omega_checkpoint/assets\n",
            "103/257 [===========>..................] - ETA: 2:09 - loss: 0.7476 - cosine_similarity: 0.8461INFO:tensorflow:Assets written to: omega_checkpoint/assets\n",
            "113/257 [============>.................] - ETA: 2:01 - loss: 0.7483 - cosine_similarity: 0.8458INFO:tensorflow:Assets written to: omega_checkpoint/assets\n",
            "123/257 [=============>................] - ETA: 1:53 - loss: 0.7489 - cosine_similarity: 0.8453INFO:tensorflow:Assets written to: omega_checkpoint/assets\n",
            "133/257 [==============>...............] - ETA: 1:45 - loss: 0.7491 - cosine_similarity: 0.8449INFO:tensorflow:Assets written to: omega_checkpoint/assets\n",
            "143/257 [===============>..............] - ETA: 1:36 - loss: 0.7491 - cosine_similarity: 0.8445INFO:tensorflow:Assets written to: omega_checkpoint/assets\n",
            "153/257 [================>.............] - ETA: 1:28 - loss: 0.7483 - cosine_similarity: 0.8442INFO:tensorflow:Assets written to: omega_checkpoint/assets\n",
            "163/257 [==================>...........] - ETA: 1:22 - loss: 0.7474 - cosine_similarity: 0.8438INFO:tensorflow:Assets written to: omega_checkpoint/assets\n",
            "173/257 [===================>..........] - ETA: 1:11 - loss: 0.7464 - cosine_similarity: 0.8435INFO:tensorflow:Assets written to: omega_checkpoint/assets\n",
            "183/257 [====================>.........] - ETA: 1:03 - loss: 0.7455 - cosine_similarity: 0.8431INFO:tensorflow:Assets written to: omega_checkpoint/assets\n",
            "193/257 [=====================>........] - ETA: 54s - loss: 0.7446 - cosine_similarity: 0.8429INFO:tensorflow:Assets written to: omega_checkpoint/assets\n",
            "203/257 [======================>.......] - ETA: 46s - loss: 0.7439 - cosine_similarity: 0.8426INFO:tensorflow:Assets written to: omega_checkpoint/assets\n",
            "213/257 [=======================>......] - ETA: 37s - loss: 0.7434 - cosine_similarity: 0.8424INFO:tensorflow:Assets written to: omega_checkpoint/assets\n",
            "223/257 [=========================>....] - ETA: 29s - loss: 0.7426 - cosine_similarity: 0.8423INFO:tensorflow:Assets written to: omega_checkpoint/assets\n",
            "233/257 [==========================>...] - ETA: 20s - loss: 0.7418 - cosine_similarity: 0.8421INFO:tensorflow:Assets written to: omega_checkpoint/assets\n",
            "243/257 [===========================>..] - ETA: 12s - loss: 0.7410 - cosine_similarity: 0.8419INFO:tensorflow:Assets written to: omega_checkpoint/assets\n",
            "253/257 [============================>.] - ETA: 3s - loss: 0.7403 - cosine_similarity: 0.8418INFO:tensorflow:Assets written to: omega_checkpoint/assets\n",
            "257/257 [==============================] - 225s 877ms/step - loss: 0.7400 - cosine_similarity: 0.8417 - val_loss: 0.5459 - val_cosine_similarity: 0.8647\n"
          ],
          "name": "stdout"
        },
        {
          "output_type": "display_data",
          "data": {
            "image/png": "[encoded data removed]",
            "text/plain": [
              "<Figure size 432x288 with 1 Axes>"
            ]
          },
          "metadata": {
            "tags": [],
            "needs_background": "light"
          }
        },
        {
          "output_type": "display_data",
          "data": {
            "image/png": "[encoded data removed]",
            "text/plain": [
              "<Figure size 432x288 with 1 Axes>"
            ]
          },
          "metadata": {
            "tags": [],
            "needs_background": "light"
          }
        }
      ]
    },
    {
      "cell_type": "markdown",
      "metadata": {
        "id": "_rZFZj5v12rZ"
      },
      "source": [
        "Now build and summarize the Alpha model as per the best learning rate value determined earlier. \n",
        "\n",
        "---\n",
        "\n",
        "**1 Point**\n",
        "\n",
        "---\n",
        "\n",
        "\n"
      ]
    },
    {
      "cell_type": "code",
      "metadata": {
        "id": "LRGLpkTv12rZ",
        "colab": {
          "base_uri": "https://localhost:8080/",
          "height": 1000
        },
        "outputId": "9f25facc-5e4c-43d0-ecf5-e894b5b5416d"
      },
      "source": [
        "# Insert code for building model using the best LR for Alpha model determined\n",
        "alpha_model = Alpha_model(learning_rate=best_Alpha_lr)\n",
        "\n",
        "print(alpha_model.summary())\n",
        "\n",
        "tf.keras.utils.plot_model(alpha_model)"
      ],
      "execution_count": null,
      "outputs": [
        {
          "output_type": "stream",
          "text": [
            "Model: \"sequential_40\"\n",
            "_________________________________________________________________\n",
            "Layer (type)                 Output Shape              Param #   \n",
            "=================================================================\n",
            "conv2d_499 (Conv2D)          (None, 50, 250, 64)       1792      \n",
            "_________________________________________________________________\n",
            "conv2d_500 (Conv2D)          (None, 50, 250, 64)       36928     \n",
            "_________________________________________________________________\n",
            "max_pooling2d_78 (MaxPooling (None, 25, 125, 64)       0         \n",
            "_________________________________________________________________\n",
            "conv2d_501 (Conv2D)          (None, 25, 125, 128)      73856     \n",
            "_________________________________________________________________\n",
            "conv2d_502 (Conv2D)          (None, 25, 125, 128)      147584    \n",
            "_________________________________________________________________\n",
            "max_pooling2d_79 (MaxPooling (None, 12, 62, 128)       0         \n",
            "_________________________________________________________________\n",
            "conv2d_503 (Conv2D)          (None, 12, 62, 256)       295168    \n",
            "_________________________________________________________________\n",
            "conv2d_504 (Conv2D)          (None, 12, 62, 256)       590080    \n",
            "_________________________________________________________________\n",
            "conv2d_505 (Conv2D)          (None, 12, 62, 256)       590080    \n",
            "_________________________________________________________________\n",
            "conv2d_506 (Conv2D)          (None, 12, 62, 256)       590080    \n",
            "_________________________________________________________________\n",
            "conv2d_507 (Conv2D)          (None, 12, 62, 256)       590080    \n",
            "_________________________________________________________________\n",
            "conv2d_508 (Conv2D)          (None, 12, 62, 256)       590080    \n",
            "_________________________________________________________________\n",
            "conv2d_509 (Conv2D)          (None, 12, 62, 512)       1180160   \n",
            "_________________________________________________________________\n",
            "conv2d_510 (Conv2D)          (None, 12, 62, 512)       2359808   \n",
            "_________________________________________________________________\n",
            "conv2d_511 (Conv2D)          (None, 12, 62, 512)       2359808   \n",
            "_________________________________________________________________\n",
            "global_average_pooling2d_37  (None, 512)               0         \n",
            "_________________________________________________________________\n",
            "dense_111 (Dense)            (None, 4096)              2101248   \n",
            "_________________________________________________________________\n",
            "dropout_74 (Dropout)         (None, 4096)              0         \n",
            "_________________________________________________________________\n",
            "dense_112 (Dense)            (None, 4096)              16781312  \n",
            "_________________________________________________________________\n",
            "dropout_75 (Dropout)         (None, 4096)              0         \n",
            "_________________________________________________________________\n",
            "dense_113 (Dense)            (None, 364)               1491308   \n",
            "=================================================================\n",
            "Total params: 29,779,372\n",
            "Trainable params: 29,779,372\n",
            "Non-trainable params: 0\n",
            "_________________________________________________________________\n",
            "None\n"
          ],
          "name": "stdout"
        },
        {
          "output_type": "execute_result",
          "data": {
            "image/png": "[encoded data removed]",
            "text/plain": [
              "<IPython.core.display.Image object>"
            ]
          },
          "metadata": {
            "tags": []
          },
          "execution_count": 168
        }
      ]
    },
    {
      "cell_type": "markdown",
      "metadata": {
        "id": "HXfq49v_12rZ"
      },
      "source": [
        "Now instantiate the four callbacks for Alpha model.\n",
        "\n",
        "---\n",
        "\n",
        "**2 Points**\n",
        "\n",
        "---"
      ]
    },
    {
      "cell_type": "code",
      "metadata": {
        "id": "yuZS0prm12rZ"
      },
      "source": [
        "# EarlyStopping after validation loss has not improved for 5 epochs \n",
        "a_es = tf.keras.callbacks.EarlyStopping(monitor='val_loss', patience=5)\n",
        "\n",
        "# ReduceLROnPlateau reducing LR by half when validation loss has not improved for 3 epochs. \n",
        "a_reduce_lrp = tf.keras.callbacks.ReduceLROnPlateau(monitor='val_loss',factor=0.5,patience=3)\n",
        "\n",
        "# CSVlogger for keeping logs in filename of your choice\n",
        "a_csvl = tf.keras.callbacks.CSVLogger(\"alpha_data.csv\", separator=',')\n",
        "\n",
        "# ModelCheckpoint that saves the best weights of model after every 10 epochs\n",
        "a_model_checkpoint = tf.keras.callbacks.ModelCheckpoint(\"alpha_checkpoint\",save_freq=10)\n",
        "\n",
        "# Make a list of all the callbacks\n",
        "alpha_callbacks = [a_es,a_reduce_lrp,a_csvl,a_model_checkpoint]\n"
      ],
      "execution_count": null,
      "outputs": []
    },
    {
      "cell_type": "markdown",
      "metadata": {
        "id": "rP8ee7y712ra"
      },
      "source": [
        "Now train the model with training data using these callbacks.\n",
        "\n",
        "---\n",
        "\n",
        "**7 Points**\n",
        "\n",
        "---"
      ]
    },
    {
      "cell_type": "code",
      "metadata": {
        "id": "VvPjVumg12ra",
        "colab": {
          "base_uri": "https://localhost:8080/",
          "height": 1000
        },
        "outputId": "48523498-7112-4ad5-9338-a7ab0b1907b2"
      },
      "source": [
        "# Insert code to train with callbacks (2 points)\n",
        "trained_alpha_model = alpha_model.fit(alpha_x_train,alpha_y_train,\n",
        "                                      epochs=2,\n",
        "                                      validation_data=(alpha_x_valid,alpha_y_valid),\n",
        "                                      batch_size=BATCH_SIZE,\n",
        "                                      callbacks=alpha_callbacks)\n",
        "\n",
        "\n",
        "# Insert your code here to obtain the lists: epochs, training similarity, validation similarity, training loss, validation loss from CSV log file (1 point)\n",
        "alpha_df=pd.read_csv(\"alpha_data.csv\")\n",
        "alpha_epoch = alpha_df['epoch'].tolist()\n",
        "alpha_sim = alpha_df['cosine_similarity'].tolist()\n",
        "alpha_val_sim = alpha_df['val_cosine_similarity'].tolist()\n",
        "alpha_loss = alpha_df['loss'].tolist()\n",
        "alpha_val_loss = alpha_df['val_loss'].tolist()\n",
        "\n",
        "\n",
        "\n",
        "# Insert your code here to plot Epochs Vs. training and validation accuracy (2 points)\n",
        "plt.plot(alpha_epoch,alpha_sim,label='Train similarity')\n",
        "plt.plot(alpha_epoch,alpha_val_sim,label=\"Validation similarity\")\n",
        "plt.legend()\n",
        "plt.xlabel('Epochs')\n",
        "plt.ylabel(\"Similarity\")\n",
        "plt.show()\n",
        "\n",
        "\n",
        "\n",
        "# Insert your code here to plot Epochs Vs. training and validation loss (2 points)\n",
        "plt.plot(alpha_epoch,alpha_loss,label='Train loss')\n",
        "plt.plot(alpha_epoch,alpha_val_loss,label=\"Validation loss\")\n",
        "plt.legend()\n",
        "plt.xlabel('Epochs')\n",
        "plt.ylabel(\"Losses\")\n",
        "plt.show()\n",
        "\n"
      ],
      "execution_count": null,
      "outputs": [
        {
          "output_type": "stream",
          "text": [
            "Epoch 1/2\n",
            " 10/257 [>.............................] - ETA: 38s - loss: 0.6456 - cosine_similarity: 0.3854INFO:tensorflow:Assets written to: alpha_checkpoint/assets\n",
            " 20/257 [=>............................] - ETA: 1:26 - loss: 0.5988 - cosine_similarity: 0.3889INFO:tensorflow:Assets written to: alpha_checkpoint/assets\n",
            " 30/257 [==>...........................] - ETA: 1:39 - loss: 0.5674 - cosine_similarity: 0.3944INFO:tensorflow:Assets written to: alpha_checkpoint/assets\n",
            " 40/257 [===>..........................] - ETA: 1:59 - loss: 0.5461 - cosine_similarity: 0.4006INFO:tensorflow:Assets written to: alpha_checkpoint/assets\n",
            " 50/257 [====>.........................] - ETA: 2:14 - loss: 0.5294 - cosine_similarity: 0.4055INFO:tensorflow:Assets written to: alpha_checkpoint/assets\n",
            " 60/257 [======>.......................] - ETA: 2:11 - loss: 0.5167 - cosine_similarity: 0.4099INFO:tensorflow:Assets written to: alpha_checkpoint/assets\n",
            " 70/257 [=======>......................] - ETA: 2:11 - loss: 0.5066 - cosine_similarity: 0.4129INFO:tensorflow:Assets written to: alpha_checkpoint/assets\n",
            " 80/257 [========>.....................] - ETA: 2:08 - loss: 0.4983 - cosine_similarity: 0.4154INFO:tensorflow:Assets written to: alpha_checkpoint/assets\n",
            " 90/257 [=========>....................] - ETA: 2:04 - loss: 0.4912 - cosine_similarity: 0.4175INFO:tensorflow:Assets written to: alpha_checkpoint/assets\n",
            "100/257 [==========>...................] - ETA: 1:58 - loss: 0.4851 - cosine_similarity: 0.4193INFO:tensorflow:Assets written to: alpha_checkpoint/assets\n",
            "110/257 [===========>..................] - ETA: 1:52 - loss: 0.4798 - cosine_similarity: 0.4209INFO:tensorflow:Assets written to: alpha_checkpoint/assets\n",
            "120/257 [=============>................] - ETA: 1:45 - loss: 0.4752 - cosine_similarity: 0.4222INFO:tensorflow:Assets written to: alpha_checkpoint/assets\n",
            "130/257 [==============>...............] - ETA: 1:40 - loss: 0.4714 - cosine_similarity: 0.4234INFO:tensorflow:Assets written to: alpha_checkpoint/assets\n",
            "140/257 [===============>..............] - ETA: 1:33 - loss: 0.4680 - cosine_similarity: 0.4245INFO:tensorflow:Assets written to: alpha_checkpoint/assets\n",
            "150/257 [================>.............] - ETA: 1:28 - loss: 0.4649 - cosine_similarity: 0.4256INFO:tensorflow:Assets written to: alpha_checkpoint/assets\n",
            "160/257 [=================>............] - ETA: 1:19 - loss: 0.4622 - cosine_similarity: 0.4267INFO:tensorflow:Assets written to: alpha_checkpoint/assets\n",
            "170/257 [==================>...........] - ETA: 1:10 - loss: 0.4597 - cosine_similarity: 0.4278INFO:tensorflow:Assets written to: alpha_checkpoint/assets\n",
            "180/257 [====================>.........] - ETA: 1:02 - loss: 0.4574 - cosine_similarity: 0.4288INFO:tensorflow:Assets written to: alpha_checkpoint/assets\n",
            "190/257 [=====================>........] - ETA: 56s - loss: 0.4553 - cosine_similarity: 0.4297INFO:tensorflow:Assets written to: alpha_checkpoint/assets\n",
            "200/257 [======================>.......] - ETA: 47s - loss: 0.4533 - cosine_similarity: 0.4306INFO:tensorflow:Assets written to: alpha_checkpoint/assets\n",
            "210/257 [=======================>......] - ETA: 38s - loss: 0.4515 - cosine_similarity: 0.4314INFO:tensorflow:Assets written to: alpha_checkpoint/assets\n",
            "220/257 [========================>.....] - ETA: 30s - loss: 0.4498 - cosine_similarity: 0.4323INFO:tensorflow:Assets written to: alpha_checkpoint/assets\n",
            "230/257 [=========================>....] - ETA: 22s - loss: 0.4481 - cosine_similarity: 0.4330INFO:tensorflow:Assets written to: alpha_checkpoint/assets\n",
            "240/257 [===========================>..] - ETA: 14s - loss: 0.4467 - cosine_similarity: 0.4338INFO:tensorflow:Assets written to: alpha_checkpoint/assets\n",
            "250/257 [============================>.] - ETA: 5s - loss: 0.4453 - cosine_similarity: 0.4344INFO:tensorflow:Assets written to: alpha_checkpoint/assets\n",
            "257/257 [==============================] - 220s 853ms/step - loss: 0.4442 - cosine_similarity: 0.4350 - val_loss: 0.3700 - val_cosine_similarity: 0.4581\n",
            "Epoch 2/2\n",
            "  3/257 [..............................] - ETA: 40s - loss: 0.3512 - cosine_similarity: 0.4681INFO:tensorflow:Assets written to: alpha_checkpoint/assets\n",
            " 13/257 [>.............................] - ETA: 2:45 - loss: 0.3818 - cosine_similarity: 0.4493INFO:tensorflow:Assets written to: alpha_checkpoint/assets\n",
            " 23/257 [=>............................] - ETA: 2:50 - loss: 0.3881 - cosine_similarity: 0.4516INFO:tensorflow:Assets written to: alpha_checkpoint/assets\n",
            " 33/257 [==>...........................] - ETA: 3:14 - loss: 0.3899 - cosine_similarity: 0.4524INFO:tensorflow:Assets written to: alpha_checkpoint/assets\n",
            " 43/257 [====>.........................] - ETA: 2:57 - loss: 0.3892 - cosine_similarity: 0.4517INFO:tensorflow:Assets written to: alpha_checkpoint/assets\n",
            " 53/257 [=====>........................] - ETA: 2:52 - loss: 0.3887 - cosine_similarity: 0.4522INFO:tensorflow:Assets written to: alpha_checkpoint/assets\n",
            " 63/257 [======>.......................] - ETA: 2:49 - loss: 0.3888 - cosine_similarity: 0.4527INFO:tensorflow:Assets written to: alpha_checkpoint/assets\n",
            " 73/257 [=======>......................] - ETA: 2:35 - loss: 0.3890 - cosine_similarity: 0.4533INFO:tensorflow:Assets written to: alpha_checkpoint/assets\n",
            " 83/257 [========>.....................] - ETA: 2:29 - loss: 0.3893 - cosine_similarity: 0.4537INFO:tensorflow:Assets written to: alpha_checkpoint/assets\n",
            " 93/257 [=========>....................] - ETA: 2:20 - loss: 0.3895 - cosine_similarity: 0.4544INFO:tensorflow:Assets written to: alpha_checkpoint/assets\n",
            "103/257 [===========>..................] - ETA: 2:17 - loss: 0.3896 - cosine_similarity: 0.4551INFO:tensorflow:Assets written to: alpha_checkpoint/assets\n",
            "113/257 [============>.................] - ETA: 2:04 - loss: 0.3897 - cosine_similarity: 0.4560INFO:tensorflow:Assets written to: alpha_checkpoint/assets\n",
            "123/257 [=============>................] - ETA: 1:56 - loss: 0.3898 - cosine_similarity: 0.4568INFO:tensorflow:Assets written to: alpha_checkpoint/assets\n",
            "133/257 [==============>...............] - ETA: 1:49 - loss: 0.3898 - cosine_similarity: 0.4575INFO:tensorflow:Assets written to: alpha_checkpoint/assets\n",
            "143/257 [===============>..............] - ETA: 1:39 - loss: 0.3898 - cosine_similarity: 0.4582INFO:tensorflow:Assets written to: alpha_checkpoint/assets\n",
            "153/257 [================>.............] - ETA: 1:30 - loss: 0.3898 - cosine_similarity: 0.4588INFO:tensorflow:Assets written to: alpha_checkpoint/assets\n",
            "163/257 [==================>...........] - ETA: 1:23 - loss: 0.3898 - cosine_similarity: 0.4595INFO:tensorflow:Assets written to: alpha_checkpoint/assets\n",
            "173/257 [===================>..........] - ETA: 1:14 - loss: 0.3899 - cosine_similarity: 0.4601INFO:tensorflow:Assets written to: alpha_checkpoint/assets\n",
            "183/257 [====================>.........] - ETA: 1:04 - loss: 0.3899 - cosine_similarity: 0.4607INFO:tensorflow:Assets written to: alpha_checkpoint/assets\n",
            "193/257 [=====================>........] - ETA: 56s - loss: 0.3900 - cosine_similarity: 0.4613INFO:tensorflow:Assets written to: alpha_checkpoint/assets\n",
            "203/257 [======================>.......] - ETA: 47s - loss: 0.3900 - cosine_similarity: 0.4617INFO:tensorflow:Assets written to: alpha_checkpoint/assets\n",
            "213/257 [=======================>......] - ETA: 39s - loss: 0.3900 - cosine_similarity: 0.4621INFO:tensorflow:Assets written to: alpha_checkpoint/assets\n",
            "223/257 [=========================>....] - ETA: 29s - loss: 0.3900 - cosine_similarity: 0.4623INFO:tensorflow:Assets written to: alpha_checkpoint/assets\n",
            "233/257 [==========================>...] - ETA: 21s - loss: 0.3901 - cosine_similarity: 0.4625INFO:tensorflow:Assets written to: alpha_checkpoint/assets\n",
            "243/257 [===========================>..] - ETA: 12s - loss: 0.3901 - cosine_similarity: 0.4628INFO:tensorflow:Assets written to: alpha_checkpoint/assets\n",
            "253/257 [============================>.] - ETA: 3s - loss: 0.3900 - cosine_similarity: 0.4629INFO:tensorflow:Assets written to: alpha_checkpoint/assets\n",
            "257/257 [==============================] - 234s 915ms/step - loss: 0.3900 - cosine_similarity: 0.4630 - val_loss: 0.3725 - val_cosine_similarity: 0.4608\n"
          ],
          "name": "stdout"
        },
        {
          "output_type": "display_data",
          "data": {
            "image/png": "[encoded data removed]",
            "text/plain": [
              "<Figure size 432x288 with 1 Axes>"
            ]
          },
          "metadata": {
            "tags": [],
            "needs_background": "light"
          }
        },
        {
          "output_type": "display_data",
          "data": {
            "image/png": "[encoded data removed]",
            "text/plain": [
              "<Figure size 432x288 with 1 Axes>"
            ]
          },
          "metadata": {
            "tags": [],
            "needs_background": "light"
          }
        }
      ]
    },
    {
      "cell_type": "markdown",
      "metadata": {
        "id": "YjpdZjNI12ra"
      },
      "source": [
        "## Steps for Word recognition:\n",
        "\n",
        "First, prepare a list having all the words from test set mapped to their corresponding vectors (lexicon for both Omega and Alpha representations).\n",
        "\n",
        "---\n",
        "\n",
        "**1 point**\n",
        "\n",
        "---\n"
      ]
    },
    {
      "cell_type": "markdown",
      "metadata": {
        "id": "in_oGlD07kMf"
      },
      "source": [
        "\n",
        "For every image in the test set:\n",
        "1. Predict the output vector representation from the trained model(s) when the image is given as input.\n",
        "2. Find the word class(from lexicon) for which the similarity of its vector representation will be highest with the output vector.\n",
        "3. If predicted word = true word, then it is a correct prediction, otherwise incorrect prediction.\n",
        "\n",
        "---\n",
        "\n",
        "Let us now perform recognition using trained Alph amodel on the test set. \n",
        "\n",
        "First, load the test images and their vector representations.\n",
        "\n",
        "---\n",
        "\n",
        "**1 point**\n",
        "\n",
        "---"
      ]
    },
    {
      "cell_type": "code",
      "metadata": {
        "id": "YOpVVEoW12ra"
      },
      "source": [
        "# Insert code to load test images and its vector labels (1 points)\n",
        "\n",
        "\n",
        "alpha_x_test, alpha_y_test = alpha_generator_func(test_dir_path)\n",
        "\n",
        "alpha_x_test=np.asarray(alpha_x_test).astype(np.int)\n",
        "alpha_y_test=np.asarray(alpha_y_test).astype(np.int)\n",
        "\n",
        "\n"
      ],
      "execution_count": null,
      "outputs": []
    },
    {
      "cell_type": "markdown",
      "metadata": {
        "id": "P3sNu5PT12rb"
      },
      "source": [
        "Now load the saved trained Alpha model from the file and predict the labels\n",
        "\n",
        "---\n",
        "\n",
        "**1+3 points**\n",
        "\n",
        "---"
      ]
    },
    {
      "cell_type": "code",
      "metadata": {
        "id": "CsUXyr8312rb"
      },
      "source": [
        "# Insert code for loading the saved model from file \n",
        "\n",
        "alph_model=tf.keras.models.load_model(\"alpha_checkpoint\")"
      ],
      "execution_count": null,
      "outputs": []
    },
    {
      "cell_type": "code",
      "metadata": {
        "id": "TztdcgE912rc",
        "colab": {
          "base_uri": "https://localhost:8080/"
        },
        "outputId": "0fa4ac5d-24e1-4668-fdfa-e3b592d32e28"
      },
      "source": [
        "# Insert code for predicting word labels of the test set images \n",
        "alph_result = alph_model.evaluate(alpha_x_test,alpha_y_test)\n",
        "alph_result\n"
      ],
      "execution_count": null,
      "outputs": [
        {
          "output_type": "stream",
          "text": [
            "13/13 [==============================] - 2s 108ms/step - loss: 0.3915 - cosine_similarity: 0.5030\n"
          ],
          "name": "stdout"
        },
        {
          "output_type": "execute_result",
          "data": {
            "text/plain": [
              "[0.3915058970451355, 0.5030088424682617]"
            ]
          },
          "metadata": {
            "tags": []
          },
          "execution_count": 173
        }
      ]
    },
    {
      "cell_type": "markdown",
      "metadata": {
        "id": "1LFSaOer12rc"
      },
      "source": [
        "Let us evaluate the performance of the model. The effective accuracy of model is defined as harmonic mean(HM) of accuracy with seen class images and accuracy with unseen class images.\n",
        "\n",
        "---\n",
        "\n",
        "**2 Points**\n",
        "\n",
        "---"
      ]
    },
    {
      "cell_type": "code",
      "metadata": {
        "id": "7ae5UTy212rc"
      },
      "source": [
        "# Insert code to load test images and its vector labels\n",
        "omega_x_test, omega_y_test = omega_generator_func(test_dir_path)\n",
        "\n",
        "omega_x_test=np.asarray(omega_x_test).astype(np.int)\n",
        "omega_y_test=np.asarray(omega_y_test).astype(np.int)\n",
        "\n"
      ],
      "execution_count": null,
      "outputs": []
    },
    {
      "cell_type": "markdown",
      "metadata": {
        "id": "ruv2dv_S12rd"
      },
      "source": [
        "Now load the saved trained Omega model from the file and predict the labels\n",
        "\n",
        "---\n",
        "\n",
        "**1+3 Points**\n",
        "\n",
        "---"
      ]
    },
    {
      "cell_type": "code",
      "metadata": {
        "id": "djnZuxae12rd"
      },
      "source": [
        "# Insert code for loading the saved model from file\n",
        "omeg_model=tf.keras.models.load_model(\"omega_checkpoint\")\n"
      ],
      "execution_count": null,
      "outputs": []
    },
    {
      "cell_type": "code",
      "metadata": {
        "id": "zeqr8m6k12rd",
        "colab": {
          "base_uri": "https://localhost:8080/"
        },
        "outputId": "498ce988-8368-413e-cbfd-c920d2b4051b"
      },
      "source": [
        "# Insert code for predicting word labels of the test set images\n",
        "omeg_result = omeg_model.evaluate(omega_x_test,omega_y_test)\n",
        "omeg_result\n"
      ],
      "execution_count": null,
      "outputs": [
        {
          "output_type": "stream",
          "text": [
            "13/13 [==============================] - 2s 106ms/step - loss: 0.6298 - cosine_similarity: 0.8660\n"
          ],
          "name": "stdout"
        },
        {
          "output_type": "execute_result",
          "data": {
            "text/plain": [
              "[0.6298407316207886, 0.865994930267334]"
            ]
          },
          "metadata": {
            "tags": []
          },
          "execution_count": 177
        }
      ]
    },
    {
      "cell_type": "markdown",
      "metadata": {
        "id": "0qp0DY9012rf"
      },
      "source": [
        "# Results\n",
        "Based on your experimental outcome and your observations, which representation is better, according to you? \n",
        "\n",
        "---\n",
        "\n",
        "**2 Points**\n",
        "\n",
        "---\n",
        "Based on experimental results, Omega representaion comes out to be better representation used to train the model. We are getting better similarity in the case of omega representation."
      ]
    },
    {
      "cell_type": "markdown",
      "metadata": {
        "id": "dajtTMG2Pxcn"
      },
      "source": [
        "We have used only words from the test set to find the matching word. How could results be affected if the lexicon had both: train and test words?\n",
        "\n",
        "---\n",
        "\n",
        "**2 Points**\n",
        "\n",
        "---\n",
        "Since, there are many more images in train set than in test set, if we use both train and test sets to finally evaluate the model, we would get higher accuracies because there are images which had been used to train the model and the model is recognises them closely."
      ]
    }
  ]
}